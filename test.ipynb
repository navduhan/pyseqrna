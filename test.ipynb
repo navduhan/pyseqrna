{
 "cells": [
  {
   "cell_type": "code",
   "execution_count": null,
   "metadata": {},
   "outputs": [],
   "source": [
    "from pyseqrna import pyseqrna_utils as pu\n",
    "from pyseqrna import quality_check as qc\n",
    "from pyseqrna import quality_trimming as qt\n",
    "from pyseqrna import  aligners as al\n",
    "from pyseqrna import pyseqrna_stats as ps\n",
    "from pyseqrna import quants\n",
    "from pyseqrna import differential_expression as de\n",
    "import pandas as pd"
   ]
  },
  {
   "cell_type": "code",
   "execution_count": null,
   "metadata": {},
   "outputs": [],
   "source": [
    "from pyseqrna.pyseqrna_utils import PyseqrnaLogger\n",
    "\n",
    "log = PyseqrnaLogger(mode='w', log='pp')\n",
    "\n",
    "log.info(\"Analysis started\")"
   ]
  },
  {
   "cell_type": "code",
   "execution_count": null,
   "metadata": {},
   "outputs": [],
   "source": [
    "data = pu.read_input_file(\"pyseqrna/example/input_Sample_PE.txt\", \"pyseqrna/example/data/\" , paired=True)\n",
    "samples= data['samples']"
   ]
  },
  {
   "cell_type": "code",
   "execution_count": null,
   "metadata": {},
   "outputs": [],
   "source": [
    "pu.make_directory(\"pySeqRNA_results\")"
   ]
  },
  {
   "cell_type": "code",
   "execution_count": null,
   "metadata": {},
   "outputs": [],
   "source": [
    "\n",
    "a = qt.trim_galoreRun(sampleDict=samples, paired=True)"
   ]
  },
  {
   "cell_type": "code",
   "execution_count": null,
   "metadata": {},
   "outputs": [],
   "source": [
    "aligner = al.STAR_Aligner(genome=\"pyseqrna/example/data/arabidopsis10.fasta\")"
   ]
  },
  {
   "cell_type": "code",
   "execution_count": null,
   "metadata": {},
   "outputs": [],
   "source": [
    "j = aligner.build_index()"
   ]
  },
  {
   "cell_type": "code",
   "execution_count": null,
   "metadata": {},
   "outputs": [],
   "source": [
    "aligner.check_index()"
   ]
  },
  {
   "cell_type": "code",
   "execution_count": null,
   "metadata": {},
   "outputs": [],
   "source": [
    "outalign, job = aligner.run_Alignment(target=a[0], pairedEND=True)"
   ]
  },
  {
   "cell_type": "code",
   "execution_count": null,
   "metadata": {},
   "outputs": [],
   "source": [
    "df= ps.align_stats(sampleDict=samples,trimDict=a[0],bamDict=outalign, pairedEND=True)"
   ]
  },
  {
   "cell_type": "code",
   "execution_count": null,
   "metadata": {},
   "outputs": [],
   "source": [
    "df.to_excel(\"pySeqRNA_results/alignment_stats.xlsx\", index=False)"
   ]
  },
  {
   "cell_type": "code",
   "execution_count": null,
   "metadata": {},
   "outputs": [],
   "source": [
    "df"
   ]
  },
  {
   "cell_type": "code",
   "execution_count": null,
   "metadata": {},
   "outputs": [],
   "source": [
    "import matplotlib.pyplot as plt\n",
    "import numpy as np\n",
    "import matplotlib\n",
    "import seaborn as sns"
   ]
  },
  {
   "cell_type": "code",
   "execution_count": null,
   "metadata": {},
   "outputs": [],
   "source": [
    "sample = list(df['Sample'])\n",
    "creads = list(df['Input_reads2x'])\n",
    "iread = list(df['%_Cleaned2x'])\n",
    "tc= list(100-df['%_Cleaned2x'])\n",
    "\n",
    "plt.barh(sample,iread,0.6,label=\"cleaned Reads\", color='skyblue')\n",
    "plt.barh(sample, tc, 0.6,left=iread, label=\"discarded\", color='tomato')\n",
    "plt.margins(y=0.01)\n",
    "plt.xticks(fontsize=15)\n",
    "plt.yticks(fontsize=15)\n",
    "plt.xlabel(\"% Number of reads\", fontsize=18)\n",
    "plt.ylabel(\"Samples\", fontsize=18)\n",
    "plt.legend(['Cleaned', 'Discarded'], bbox_to_anchor=(1.0, 1.0), loc='upper left', fontsize=15)\n",
    "fig = matplotlib.pyplot.gcf()\n",
    "fig.set_size_inches(18.5, 10.5)\n",
    "\n",
    "# plt.legend(frameon=False, fontsize=17)\n",
    "\n"
   ]
  },
  {
   "cell_type": "code",
   "execution_count": null,
   "metadata": {},
   "outputs": [],
   "source": [
    "tc"
   ]
  },
  {
   "cell_type": "code",
   "execution_count": null,
   "metadata": {},
   "outputs": [],
   "source": [
    "a= quants.featureCount(bamDict=outalign, gff=\"pyseqrna/example/data/arabidopsis10.gff\", outDir=\"pySeqRNA_results\")"
   ]
  },
  {
   "cell_type": "code",
   "execution_count": null,
   "metadata": {},
   "outputs": [],
   "source": [
    "counts= pd.read_csv(\"pySeqRNA_results/Counts_final.txt\", sep=\"\\t\")"
   ]
  },
  {
   "cell_type": "code",
   "execution_count": null,
   "metadata": {},
   "outputs": [],
   "source": [
    "counts"
   ]
  },
  {
   "cell_type": "code",
   "execution_count": null,
   "metadata": {},
   "outputs": [],
   "source": [
    "targets= data['targets']\n",
    "comb= data['combinations']"
   ]
  },
  {
   "cell_type": "code",
   "execution_count": null,
   "metadata": {},
   "outputs": [],
   "source": [
    "dd= de.runDESeq2(countDF=counts,targetFile=targets,design='sample', combination=comb)"
   ]
  },
  {
   "cell_type": "code",
   "execution_count": null,
   "metadata": {},
   "outputs": [],
   "source": [
    "import os \n",
    "dd.to_excel(os.path.join(\"pySeqRNA_results\",\"Raw_DEGs_all.xlsx\"), index=False)"
   ]
  },
  {
   "cell_type": "code",
   "execution_count": null,
   "metadata": {},
   "outputs": [],
   "source": [
    "dd= pd.read_excel(\"pySeqRNA_results/Raw_DEGs_all.xlsx\")\n",
    "filtered_DEG = de.degFilter(degDF=dd, CompareList=comb, FDR=0.05, FOLD=1)"
   ]
  },
  {
   "cell_type": "code",
   "execution_count": null,
   "metadata": {},
   "outputs": [],
   "source": [
    "summary= filtered_DEG['summary']"
   ]
  },
  {
   "cell_type": "code",
   "execution_count": null,
   "metadata": {},
   "outputs": [],
   "source": [
    "wd= pd.ExcelWriter(os.path.join(\"pySeqRNA_results\",\"filtered_DEGs.xlsx\"))\n",
    "for key, value in filtered_DEG['filtered'].items():\n",
    "    value.to_excel(wd,sheet_name=key)\n",
    "    wd.save()\n",
    "wd.close()"
   ]
  },
  {
   "cell_type": "code",
   "execution_count": null,
   "metadata": {},
   "outputs": [],
   "source": [
    "pu.getGenes(os.path.join(\"pySeqRNA_results\",\"filtered_DEGs.xlsx\"), combinations=comb)"
   ]
  },
  {
   "cell_type": "code",
   "execution_count": null,
   "metadata": {},
   "outputs": [],
   "source": [
    "from pyseqrna import normalize_counts as nc"
   ]
  },
  {
   "cell_type": "code",
   "execution_count": null,
   "metadata": {},
   "outputs": [],
   "source": [
    "rpkm = nc.Normalization(countFile=\"pySeqRNA_results/Counts_final.txt\", featureFile=\"pyseqrna/example/data/arabidopsis10.gff\")"
   ]
  },
  {
   "cell_type": "code",
   "execution_count": null,
   "metadata": {},
   "outputs": [],
   "source": [
    "rpk = rpkm.meanRatioCount()"
   ]
  },
  {
   "cell_type": "code",
   "execution_count": null,
   "metadata": {},
   "outputs": [],
   "source": [
    "rpk.to_excel(\"pySeqRNA_results/rpkm.xlsx\")"
   ]
  },
  {
   "cell_type": "code",
   "execution_count": null,
   "metadata": {},
   "outputs": [],
   "source": [
    "rcount= pd.read_excel(\"pySeqRNA_results/rpkm.xlsx\")"
   ]
  },
  {
   "cell_type": "code",
   "execution_count": null,
   "metadata": {},
   "outputs": [],
   "source": [
    "rcount"
   ]
  },
  {
   "cell_type": "code",
   "execution_count": null,
   "metadata": {},
   "outputs": [],
   "source": [
    "from pyseqrna import pyseqrna_plots as pp"
   ]
  },
  {
   "cell_type": "code",
   "execution_count": null,
   "metadata": {},
   "outputs": [],
   "source": [
    "heatmap, ax = pp.plotHeatmap(dd,combinations=comb,num=50, type='deg')"
   ]
  },
  {
   "cell_type": "code",
   "execution_count": 1,
   "metadata": {},
   "outputs": [],
   "source": [
    "from pyseqrna import gene_ontology as go"
   ]
  },
  {
   "cell_type": "code",
   "execution_count": 2,
   "metadata": {},
   "outputs": [],
   "source": [
    "bdata= go.query('athaliana')"
   ]
  },
  {
   "cell_type": "markdown",
   "metadata": {},
   "source": []
  },
  {
   "cell_type": "code",
   "execution_count": 3,
   "metadata": {},
   "outputs": [],
   "source": [
    "gdata = go.preprocessBioMart(bdata)"
   ]
  },
  {
   "cell_type": "code",
   "execution_count": 4,
   "metadata": {},
   "outputs": [],
   "source": [
    "results = go.enrichGO('athaliana',\"pySeqRNA_results/diff_genes/C1-D6.txt\")"
   ]
  },
  {
   "cell_type": "code",
   "execution_count": 23,
   "metadata": {},
   "outputs": [],
   "source": [
    "results.to_excel(\"GO.xlsx\")"
   ]
  },
  {
   "cell_type": "code",
   "execution_count": 16,
   "metadata": {},
   "outputs": [
    {
     "data": {
      "text/plain": [
       "26408"
      ]
     },
     "execution_count": 16,
     "metadata": {},
     "output_type": "execute_result"
    }
   ],
   "source": [
    "df=bdata\n",
    "import numpy as np\n",
    "df2 = df[df['GO_ID'].notna()]\n",
    "gg = list(df2['Gene'])\n",
    "x = np.array(gg)\n",
    "\n",
    "bg_count = len(np.unique(x))\n",
    "\n",
    "bg_count\n"
   ]
  },
  {
   "cell_type": "code",
   "execution_count": null,
   "metadata": {},
   "outputs": [],
   "source": [
    "cd= pd.read_excel(\"pySeqRNA_results.1/M1-V6_deg.xlsx\")"
   ]
  },
  {
   "cell_type": "code",
   "execution_count": null,
   "metadata": {},
   "outputs": [],
   "source": [
    "gdata"
   ]
  },
  {
   "cell_type": "code",
   "execution_count": null,
   "metadata": {},
   "outputs": [],
   "source": [
    "from pyseqrna import pathway\n"
   ]
  },
  {
   "cell_type": "code",
   "execution_count": null,
   "metadata": {},
   "outputs": [],
   "source": [
    "dk = pathway.enrichKEGG(file=\"pySeqRNA_results/diff_genes/C1-D6.txt\", species='ath')"
   ]
  },
  {
   "cell_type": "code",
   "execution_count": 21,
   "metadata": {},
   "outputs": [],
   "source": [
    "df2.to_excel(\"back.xlsx\")"
   ]
  }
 ],
 "metadata": {
  "interpreter": {
   "hash": "bae6830252d665342b2c3fbf83e080a2a19635753e7236c13ce78b53db4459af"
  },
  "kernelspec": {
   "display_name": "Python 3.7.11 64-bit ('pyseqrna': conda)",
   "name": "python3"
  },
  "language_info": {
   "codemirror_mode": {
    "name": "ipython",
    "version": 3
   },
   "file_extension": ".py",
   "mimetype": "text/x-python",
   "name": "python",
   "nbconvert_exporter": "python",
   "pygments_lexer": "ipython3",
   "version": "3.7.11"
  },
  "orig_nbformat": 4
 },
 "nbformat": 4,
 "nbformat_minor": 2
}
