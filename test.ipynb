{
 "cells": [
  {
   "cell_type": "code",
   "execution_count": 6,
   "metadata": {},
   "outputs": [],
   "source": [
    "from pyseqrna import pyseqrna_utils as pu\n",
    "from pyseqrna import quality_check as qc\n",
    "from pyseqrna import quality_trimming as qt\n",
    "from pyseqrna import  aligners as al\n",
    "from pyseqrna import pyseqrna_stats as ps\n",
    "from pyseqrna import quantification as quants\n",
    "from pyseqrna import differential_expression as de\n",
    "from pyseqrna import pyseqrna_plots as pp\n",
    "from pyseqrna import multimapped_groups as mmg\n",
    "import pandas as pd\n",
    "import dill"
   ]
  },
  {
   "cell_type": "code",
   "execution_count": 7,
   "metadata": {},
   "outputs": [
    {
     "name": "stderr",
     "output_type": "stream",
     "text": [
      "[20:52:38]  <ipython-input-7-bf476bf393c3> :: INFO : Analysis started\n",
      "[20:52:38]  <ipython-input-7-bf476bf393c3> :: INFO : Analysis started\n"
     ]
    }
   ],
   "source": [
    "from pyseqrna.pyseqrna_utils import PyseqrnaLogger\n",
    "\n",
    "log = PyseqrnaLogger(mode='w', log='pp')\n",
    "\n",
    "log.info(\"Analysis started\")"
   ]
  },
  {
   "cell_type": "code",
   "execution_count": 8,
   "metadata": {},
   "outputs": [
    {
     "name": "stderr",
     "output_type": "stream",
     "text": [
      "[20:52:41]  pyseqrna_utils :: INFO : Reading input samples File \n",
      "[20:52:41]  pyseqrna_utils :: INFO : Input file /home/naveen/Downloads/pyseqrna_test/input_sample.txt read succesfully\n",
      "[20:52:41]  pyseqrna_utils :: INFO : Combination created succesfully from /home/naveen/Downloads/pyseqrna_test/input_sample.txt\n",
      "[20:52:41]  pyseqrna_utils :: INFO : targets dataframe for differenatial created succesfully from /home/naveen/Downloads/pyseqrna_test/input_sample.txt\n"
     ]
    }
   ],
   "source": [
    "data = pu.read_input_file(\"/home/naveen/Downloads/pyseqrna_test/input_sample.txt\", \"/home/naveen/Downloads/pyseqrna_test/\" , paired=True)\n",
    "samples= data['samples']"
   ]
  },
  {
   "cell_type": "code",
   "execution_count": 11,
   "metadata": {},
   "outputs": [
    {
     "name": "stderr",
     "output_type": "stream",
     "text": [
      "[20:53:18]  pyseqrna_utils :: INFO : Config generated succesfully from /home/naveen/Documents/Phd_work/ngs_data/pyseqrna/pyseqrna/param/fastqc.ini\n",
      "[20:53:18]  quality_check :: INFO : Using default config file fastqc.ini\n",
      "[20:53:18]  pyseqrna_utils :: INFO : Succesfully created directory /home/naveen/Documents/Phd_work/ngs_data/pyseqrna/pySeqRNA_results/fastqc_results\n",
      "[20:53:18]  quality_check :: INFO : Job submitted on slurm successfully for SRR16832244_1.fastq.gz and SRR16832244_2.fastq.gz with 36113\n",
      "[20:53:18]  quality_check :: INFO : Job submitted on slurm successfully for SRR16832245_1.fastq.gz and SRR16832245_2.fastq.gz with 36114\n",
      "[20:53:18]  quality_check :: INFO : Job submitted on slurm successfully for SRR16832246_1.fastq.gz and SRR16832246_2.fastq.gz with 36115\n",
      "[20:53:18]  quality_check :: INFO : Job submitted on slurm successfully for SRR16832247_1.fastq.gz and SRR16832247_2.fastq.gz with 36116\n",
      "[20:53:18]  quality_check :: INFO : Job submitted on slurm successfully for SRR16832248_1.fastq.gz and SRR16832248_2.fastq.gz with 36117\n",
      "[20:53:18]  quality_check :: INFO : Job submitted on slurm successfully for SRR16832249_1.fastq.gz and SRR16832249_2.fastq.gz with 36118\n",
      "[20:53:18]  quality_check :: INFO : Job submitted on slurm successfully for SRR16832250_1.fastq.gz and SRR16832250_2.fastq.gz with 36119\n",
      "[20:53:18]  quality_check :: INFO : Job submitted on slurm successfully for SRR16832251_1.fastq.gz and SRR16832251_2.fastq.gz with 36120\n",
      "[20:53:18]  quality_check :: INFO : Job submitted on slurm successfully for SRR16832252_1.fastq.gz and SRR16832252_2.fastq.gz with 36121\n"
     ]
    }
   ],
   "source": [
    "a, b = qc.fastqcRun(sampleDict=samples,paired=True, slurm=True,cpu=30,mem=200)"
   ]
  },
  {
   "cell_type": "code",
   "execution_count": 10,
   "metadata": {},
   "outputs": [],
   "source": [
    "targets= data['targets']\n",
    "comb= data['combinations']"
   ]
  },
  {
   "cell_type": "code",
   "execution_count": 9,
   "metadata": {},
   "outputs": [
    {
     "name": "stderr",
     "output_type": "stream",
     "text": [
      "[20:52:46]  pyseqrna_utils :: INFO : Succesfully created directory /home/naveen/Documents/Phd_work/ngs_data/pyseqrna/pySeqRNA_results\n"
     ]
    },
    {
     "data": {
      "text/plain": [
       "'/home/naveen/Documents/Phd_work/ngs_data/pyseqrna/pySeqRNA_results'"
      ]
     },
     "execution_count": 9,
     "metadata": {},
     "output_type": "execute_result"
    }
   ],
   "source": [
    "pu.make_directory(\"pySeqRNA_results\")"
   ]
  },
  {
   "cell_type": "code",
   "execution_count": 13,
   "metadata": {},
   "outputs": [
    {
     "name": "stderr",
     "output_type": "stream",
     "text": [
      "[21:24:11]  pyseqrna_utils :: INFO : Config generated succesfully from /home/naveen/Documents/Phd_work/ngs_data/pyseqrna/pyseqrna/param/trim_galore.ini\n",
      "[21:24:11]  quality_trimming :: INFO : Using default config file trim_galore.ini\n",
      "[21:24:11]  pyseqrna_utils :: INFO : Succesfully created directory /home/naveen/Documents/Phd_work/ngs_data/pyseqrna/pySeqRNA_results/trim_galore_results\n",
      "[21:24:11]  quality_trimming :: INFO : Job successfully submited for SRR16832244_1.fastq.gz and SRR16832244_2.fastq.gz with 36131\n",
      "[21:24:11]  quality_trimming :: INFO : Job successfully submited for SRR16832245_1.fastq.gz and SRR16832245_2.fastq.gz with 36132\n",
      "[21:24:11]  quality_trimming :: INFO : Job successfully submited for SRR16832246_1.fastq.gz and SRR16832246_2.fastq.gz with 36133\n",
      "[21:24:11]  quality_trimming :: INFO : Job successfully submited for SRR16832247_1.fastq.gz and SRR16832247_2.fastq.gz with 36134\n",
      "[21:24:11]  quality_trimming :: INFO : Job successfully submited for SRR16832248_1.fastq.gz and SRR16832248_2.fastq.gz with 36135\n",
      "[21:24:11]  quality_trimming :: INFO : Job successfully submited for SRR16832249_1.fastq.gz and SRR16832249_2.fastq.gz with 36136\n",
      "[21:24:11]  quality_trimming :: INFO : Job successfully submited for SRR16832250_1.fastq.gz and SRR16832250_2.fastq.gz with 36137\n",
      "[21:24:11]  quality_trimming :: INFO : Job successfully submited for SRR16832251_1.fastq.gz and SRR16832251_2.fastq.gz with 36138\n",
      "[21:24:11]  quality_trimming :: INFO : Job successfully submited for SRR16832252_1.fastq.gz and SRR16832252_2.fastq.gz with 36139\n"
     ]
    }
   ],
   "source": [
    "\n",
    "a = qt.trim_galoreRun(sampleDict=samples, paired=True, slurm=True, cpu=40,mem=200)"
   ]
  },
  {
   "cell_type": "code",
   "execution_count": null,
   "metadata": {},
   "outputs": [],
   "source": [
    "a[1]"
   ]
  },
  {
   "cell_type": "code",
   "execution_count": 15,
   "metadata": {},
   "outputs": [
    {
     "name": "stderr",
     "output_type": "stream",
     "text": [
      "[21:44:37]  pyseqrna_utils :: INFO : Config generated succesfully from /home/naveen/Documents/Phd_work/ngs_data/pyseqrna/pyseqrna/param/STAR.ini\n",
      "[21:44:37]  aligners :: INFO : Using default config file STAR.ini\n"
     ]
    }
   ],
   "source": [
    "aligner = al.STAR_Aligner(genome=\"/home/naveen/Downloads/pyseqrna_test/Arabidopsis_thaliana.TAIR10.dna.toplevel.fa\", slurm=True)"
   ]
  },
  {
   "cell_type": "markdown",
   "metadata": {},
   "source": []
  },
  {
   "cell_type": "code",
   "execution_count": 16,
   "metadata": {},
   "outputs": [
    {
     "name": "stderr",
     "output_type": "stream",
     "text": [
      "[21:44:41]  pyseqrna_utils :: INFO : Succesfully created directory /home/naveen/Documents/Phd_work/ngs_data/pyseqrna/pySeqRNA_results/star_index\n",
      "[21:44:41]  aligners :: INFO : Arabidopsis_thaliana.TAIR10.dna.toplevel.fa copied successfully in star_index\n",
      "[21:44:41]  aligners :: INFO : Job successfully submited for /home/naveen/Documents/Phd_work/ngs_data/pyseqrna/pySeqRNA_results/star_index/Arabidopsis_thaliana.TAIR10.dna.toplevel.fa with 36141 for indexing\n"
     ]
    }
   ],
   "source": [
    "j = aligner.build_index()"
   ]
  },
  {
   "cell_type": "code",
   "execution_count": 17,
   "metadata": {},
   "outputs": [
    {
     "data": {
      "text/plain": [
       "True"
      ]
     },
     "execution_count": 17,
     "metadata": {},
     "output_type": "execute_result"
    }
   ],
   "source": [
    "aligner.check_index()"
   ]
  },
  {
   "cell_type": "code",
   "execution_count": 19,
   "metadata": {},
   "outputs": [
    {
     "name": "stderr",
     "output_type": "stream",
     "text": [
      "[21:52:23]  pyseqrna_utils :: INFO : Succesfully created directory /home/naveen/Documents/Phd_work/ngs_data/pyseqrna/pySeqRNA_results/star_results\n",
      "[21:52:23]  aligners :: INFO : Job successfully submited for WT1_val_1.fq.gz and WT1_val_2.fq.gz with 36151 for alignment\n",
      "[21:52:24]  aligners :: INFO : Job successfully submited for WT2_val_1.fq.gz and WT2_val_2.fq.gz with 36152 for alignment\n",
      "[21:52:24]  aligners :: INFO : Job successfully submited for WT3_val_1.fq.gz and WT3_val_2.fq.gz with 36153 for alignment\n",
      "[21:52:24]  aligners :: INFO : Job successfully submited for PF1_val_1.fq.gz and PF1_val_2.fq.gz with 36154 for alignment\n",
      "[21:52:24]  aligners :: INFO : Job successfully submited for PF2_val_1.fq.gz and PF2_val_2.fq.gz with 36155 for alignment\n",
      "[21:52:24]  aligners :: INFO : Job successfully submited for PF3_val_1.fq.gz and PF3_val_2.fq.gz with 36156 for alignment\n",
      "[21:52:24]  aligners :: INFO : Job successfully submited for F1_val_1.fq.gz and F1_val_2.fq.gz with 36157 for alignment\n",
      "[21:52:24]  aligners :: INFO : Job successfully submited for F2_val_1.fq.gz and F2_val_2.fq.gz with 36158 for alignment\n",
      "[21:52:24]  aligners :: INFO : Job successfully submited for F3_val_1.fq.gz and F3_val_2.fq.gz with 36159 for alignment\n"
     ]
    }
   ],
   "source": [
    "outalign, job = aligner.run_Alignment(target=a[0], pairedEND=True, cpu=40, mem=200)"
   ]
  },
  {
   "cell_type": "code",
   "execution_count": 23,
   "metadata": {},
   "outputs": [
    {
     "data": {
      "text/plain": [
       "36530341"
      ]
     },
     "execution_count": 23,
     "metadata": {},
     "output_type": "execute_result"
    }
   ],
   "source": [
    "ps.getUniquely_mapped(\"pySeqRNA_results/star_results/F1Aligned.out.bam\")"
   ]
  },
  {
   "cell_type": "code",
   "execution_count": 24,
   "metadata": {},
   "outputs": [],
   "source": [
    "df= ps.align_stats(sampleDict=samples,trimDict=a[0],bamDict=outalign, pairedEND=True)"
   ]
  },
  {
   "cell_type": "code",
   "execution_count": 25,
   "metadata": {},
   "outputs": [],
   "source": [
    "df.to_excel(\"pySeqRNA_results/alignment_stats.xlsx\", index=False)"
   ]
  },
  {
   "cell_type": "code",
   "execution_count": 26,
   "metadata": {},
   "outputs": [
    {
     "data": {
      "text/html": [
       "<div>\n",
       "<style scoped>\n",
       "    .dataframe tbody tr th:only-of-type {\n",
       "        vertical-align: middle;\n",
       "    }\n",
       "\n",
       "    .dataframe tbody tr th {\n",
       "        vertical-align: top;\n",
       "    }\n",
       "\n",
       "    .dataframe thead th {\n",
       "        text-align: right;\n",
       "    }\n",
       "</style>\n",
       "<table border=\"1\" class=\"dataframe\">\n",
       "  <thead>\n",
       "    <tr style=\"text-align: right;\">\n",
       "      <th></th>\n",
       "      <th>Sample</th>\n",
       "      <th>Input_reads2x</th>\n",
       "      <th>Cleaned2x</th>\n",
       "      <th>%_Cleaned2x</th>\n",
       "      <th>Aligned</th>\n",
       "      <th>%_Aligned</th>\n",
       "      <th>Uniquely_mapped</th>\n",
       "      <th>%_Uniquely_mapped</th>\n",
       "      <th>Multi_mapped</th>\n",
       "      <th>%_Multi_mapped</th>\n",
       "    </tr>\n",
       "  </thead>\n",
       "  <tbody>\n",
       "    <tr>\n",
       "      <th>0</th>\n",
       "      <td>WT1</td>\n",
       "      <td>39641944</td>\n",
       "      <td>39625770</td>\n",
       "      <td>99.96</td>\n",
       "      <td>38958658</td>\n",
       "      <td>98.32</td>\n",
       "      <td>38338183</td>\n",
       "      <td>98.41</td>\n",
       "      <td>620475</td>\n",
       "      <td>1.59</td>\n",
       "    </tr>\n",
       "    <tr>\n",
       "      <th>1</th>\n",
       "      <td>WT2</td>\n",
       "      <td>36836982</td>\n",
       "      <td>36822032</td>\n",
       "      <td>99.96</td>\n",
       "      <td>36189715</td>\n",
       "      <td>98.28</td>\n",
       "      <td>35690142</td>\n",
       "      <td>98.62</td>\n",
       "      <td>499573</td>\n",
       "      <td>1.38</td>\n",
       "    </tr>\n",
       "    <tr>\n",
       "      <th>2</th>\n",
       "      <td>WT3</td>\n",
       "      <td>31803522</td>\n",
       "      <td>31792636</td>\n",
       "      <td>99.97</td>\n",
       "      <td>31258664</td>\n",
       "      <td>98.32</td>\n",
       "      <td>30864420</td>\n",
       "      <td>98.74</td>\n",
       "      <td>394244</td>\n",
       "      <td>1.26</td>\n",
       "    </tr>\n",
       "    <tr>\n",
       "      <th>3</th>\n",
       "      <td>PF1</td>\n",
       "      <td>33534220</td>\n",
       "      <td>33523266</td>\n",
       "      <td>99.97</td>\n",
       "      <td>32981811</td>\n",
       "      <td>98.38</td>\n",
       "      <td>32576574</td>\n",
       "      <td>98.77</td>\n",
       "      <td>405237</td>\n",
       "      <td>1.23</td>\n",
       "    </tr>\n",
       "    <tr>\n",
       "      <th>4</th>\n",
       "      <td>PF2</td>\n",
       "      <td>33522038</td>\n",
       "      <td>33510196</td>\n",
       "      <td>99.96</td>\n",
       "      <td>32893071</td>\n",
       "      <td>98.16</td>\n",
       "      <td>32474288</td>\n",
       "      <td>98.73</td>\n",
       "      <td>418783</td>\n",
       "      <td>1.27</td>\n",
       "    </tr>\n",
       "    <tr>\n",
       "      <th>5</th>\n",
       "      <td>PF3</td>\n",
       "      <td>31857100</td>\n",
       "      <td>31845818</td>\n",
       "      <td>99.96</td>\n",
       "      <td>31355902</td>\n",
       "      <td>98.46</td>\n",
       "      <td>30955952</td>\n",
       "      <td>98.72</td>\n",
       "      <td>399950</td>\n",
       "      <td>1.28</td>\n",
       "    </tr>\n",
       "    <tr>\n",
       "      <th>6</th>\n",
       "      <td>F1</td>\n",
       "      <td>37747846</td>\n",
       "      <td>37734534</td>\n",
       "      <td>99.96</td>\n",
       "      <td>37126363</td>\n",
       "      <td>98.39</td>\n",
       "      <td>36530341</td>\n",
       "      <td>98.39</td>\n",
       "      <td>596022</td>\n",
       "      <td>1.61</td>\n",
       "    </tr>\n",
       "    <tr>\n",
       "      <th>7</th>\n",
       "      <td>F2</td>\n",
       "      <td>35905062</td>\n",
       "      <td>35891460</td>\n",
       "      <td>99.96</td>\n",
       "      <td>35290295</td>\n",
       "      <td>98.33</td>\n",
       "      <td>34721820</td>\n",
       "      <td>98.39</td>\n",
       "      <td>568475</td>\n",
       "      <td>1.61</td>\n",
       "    </tr>\n",
       "    <tr>\n",
       "      <th>8</th>\n",
       "      <td>F3</td>\n",
       "      <td>33266248</td>\n",
       "      <td>33254296</td>\n",
       "      <td>99.96</td>\n",
       "      <td>32775791</td>\n",
       "      <td>98.56</td>\n",
       "      <td>32300078</td>\n",
       "      <td>98.55</td>\n",
       "      <td>475713</td>\n",
       "      <td>1.45</td>\n",
       "    </tr>\n",
       "  </tbody>\n",
       "</table>\n",
       "</div>"
      ],
      "text/plain": [
       "  Sample  Input_reads2x  Cleaned2x  %_Cleaned2x   Aligned  %_Aligned  \\\n",
       "0    WT1       39641944   39625770        99.96  38958658      98.32   \n",
       "1    WT2       36836982   36822032        99.96  36189715      98.28   \n",
       "2    WT3       31803522   31792636        99.97  31258664      98.32   \n",
       "3    PF1       33534220   33523266        99.97  32981811      98.38   \n",
       "4    PF2       33522038   33510196        99.96  32893071      98.16   \n",
       "5    PF3       31857100   31845818        99.96  31355902      98.46   \n",
       "6     F1       37747846   37734534        99.96  37126363      98.39   \n",
       "7     F2       35905062   35891460        99.96  35290295      98.33   \n",
       "8     F3       33266248   33254296        99.96  32775791      98.56   \n",
       "\n",
       "   Uniquely_mapped  %_Uniquely_mapped  Multi_mapped  %_Multi_mapped  \n",
       "0         38338183              98.41        620475            1.59  \n",
       "1         35690142              98.62        499573            1.38  \n",
       "2         30864420              98.74        394244            1.26  \n",
       "3         32576574              98.77        405237            1.23  \n",
       "4         32474288              98.73        418783            1.27  \n",
       "5         30955952              98.72        399950            1.28  \n",
       "6         36530341              98.39        596022            1.61  \n",
       "7         34721820              98.39        568475            1.61  \n",
       "8         32300078              98.55        475713            1.45  "
      ]
     },
     "execution_count": 26,
     "metadata": {},
     "output_type": "execute_result"
    }
   ],
   "source": [
    "df"
   ]
  },
  {
   "cell_type": "code",
   "execution_count": null,
   "metadata": {},
   "outputs": [],
   "source": [
    "import matplotlib.pyplot as plt\n",
    "import numpy as np\n",
    "import matplotlib\n",
    "import seaborn as sns"
   ]
  },
  {
   "cell_type": "code",
   "execution_count": null,
   "metadata": {},
   "outputs": [],
   "source": [
    "sample = list(df['Sample'])\n",
    "creads = list(df['Input_reads2x'])\n",
    "iread = list(df['%_Cleaned2x'])\n",
    "tc= list(100-df['%_Cleaned2x'])\n",
    "\n",
    "plt.barh(sample,iread,0.6,label=\"cleaned Reads\", color='skyblue')\n",
    "plt.barh(sample, tc, 0.6,left=iread, label=\"discarded\", color='tomato')\n",
    "plt.margins(y=0.01)\n",
    "plt.xticks(fontsize=15)\n",
    "plt.yticks(fontsize=15)\n",
    "plt.xlabel(\"% Number of reads\", fontsize=18)\n",
    "plt.ylabel(\"Samples\", fontsize=18)\n",
    "plt.legend(['Cleaned', 'Discarded'], bbox_to_anchor=(1.0, 1.0), loc='upper left', fontsize=15)\n",
    "fig = matplotlib.pyplot.gcf()\n",
    "fig.set_size_inches(18.5, 10.5)\n",
    "\n",
    "# plt.legend(frameon=False, fontsize=17)\n",
    "\n"
   ]
  },
  {
   "cell_type": "code",
   "execution_count": null,
   "metadata": {},
   "outputs": [],
   "source": [
    "tc"
   ]
  },
  {
   "cell_type": "code",
   "execution_count": 31,
   "metadata": {},
   "outputs": [
    {
     "name": "stderr",
     "output_type": "stream",
     "text": [
      "[00:37:49]  pyseqrna_utils :: INFO : Config generated succesfully from /home/naveen/Documents/Phd_work/ngs_data/pyseqrna/pyseqrna/param/featureCount.ini\n",
      "[00:37:49]  quantification :: INFO : Using default config file featureCount.ini\n"
     ]
    },
    {
     "name": "stdout",
     "output_type": "stream",
     "text": [
      "/home/naveen/SOFTWARE/miniconda3/envs/pySeqRNA/bin/featureCounts  -a /home/naveen/Downloads/pyseqrna_test/Arabidopsis_thaliana.TAIR10.51.gff3 -o pySeqRNA_results/Counts.txt -T 5 -g ID -t gene /home/naveen/Documents/Phd_work/ngs_data/pyseqrna/pySeqRNA_results/star_results/WT1Aligned.out.bam /home/naveen/Documents/Phd_work/ngs_data/pyseqrna/pySeqRNA_results/star_results/WT2Aligned.out.bam /home/naveen/Documents/Phd_work/ngs_data/pyseqrna/pySeqRNA_results/star_results/WT3Aligned.out.bam /home/naveen/Documents/Phd_work/ngs_data/pyseqrna/pySeqRNA_results/star_results/PF1Aligned.out.bam /home/naveen/Documents/Phd_work/ngs_data/pyseqrna/pySeqRNA_results/star_results/PF2Aligned.out.bam /home/naveen/Documents/Phd_work/ngs_data/pyseqrna/pySeqRNA_results/star_results/PF3Aligned.out.bam /home/naveen/Documents/Phd_work/ngs_data/pyseqrna/pySeqRNA_results/star_results/F1Aligned.out.bam /home/naveen/Documents/Phd_work/ngs_data/pyseqrna/pySeqRNA_results/star_results/F2Aligned.out.bam /home/naveen/Documents/Phd_work/ngs_data/pyseqrna/pySeqRNA_results/star_results/F3Aligned.out.bam \n"
     ]
    },
    {
     "name": "stderr",
     "output_type": "stream",
     "text": [
      "[00:39:58]  quantification :: INFO : Job successfully completed for feature count\n"
     ]
    }
   ],
   "source": [
    "a= quants.featureCount(bamDict=outalign, gff=\"/home/naveen/Downloads/pyseqrna_test/Arabidopsis_thaliana.TAIR10.51.gff3\", outDir=\"pySeqRNA_results\")"
   ]
  },
  {
   "cell_type": "code",
   "execution_count": null,
   "metadata": {},
   "outputs": [],
   "source": [
    "counts= pd.read_csv(\"pySeqRNA_results/Counts_final.txt\", sep=\"\\t\")"
   ]
  },
  {
   "cell_type": "code",
   "execution_count": null,
   "metadata": {},
   "outputs": [],
   "source": [
    "counts"
   ]
  },
  {
   "cell_type": "code",
   "execution_count": null,
   "metadata": {},
   "outputs": [],
   "source": [
    "targets= data['targets']\n",
    "comb= data['combinations']"
   ]
  },
  {
   "cell_type": "code",
   "execution_count": null,
   "metadata": {},
   "outputs": [],
   "source": [
    "dd= de.runDESeq2(countDF=counts,targetFile=targets,design='sample', combination=comb)"
   ]
  },
  {
   "cell_type": "code",
   "execution_count": null,
   "metadata": {},
   "outputs": [],
   "source": [
    "import os \n",
    "dd.to_excel(os.path.join(\"pySeqRNA_results\",\"Raw_DEGs_all.xlsx\"), index=False)"
   ]
  },
  {
   "cell_type": "code",
   "execution_count": null,
   "metadata": {},
   "outputs": [],
   "source": [
    "dd= pd.read_excel(\"pySeqRNA_results/Raw_DEGs_all.xlsx\")\n",
    "filtered_DEG = de.degFilter(degDF=dd, CompareList=comb, FDR=0.05, FOLD=1)"
   ]
  },
  {
   "cell_type": "code",
   "execution_count": null,
   "metadata": {},
   "outputs": [],
   "source": [
    "summary= filtered_DEG['summary']"
   ]
  },
  {
   "cell_type": "code",
   "execution_count": null,
   "metadata": {},
   "outputs": [],
   "source": [
    "wd= pd.ExcelWriter(os.path.join(\"pySeqRNA_results\",\"filtered_DEGs.xlsx\"))\n",
    "for key, value in filtered_DEG['filtered'].items():\n",
    "    value.to_excel(wd,sheet_name=key)\n",
    "    wd.save()\n",
    "wd.close()"
   ]
  },
  {
   "cell_type": "code",
   "execution_count": null,
   "metadata": {},
   "outputs": [],
   "source": [
    "pu.getGenes(os.path.join(\"pySeqRNA_results\",\"filtered_DEGs.xlsx\"), combinations=comb)"
   ]
  },
  {
   "cell_type": "code",
   "execution_count": null,
   "metadata": {},
   "outputs": [],
   "source": [
    "from pyseqrna import normalize_counts as nc"
   ]
  },
  {
   "cell_type": "code",
   "execution_count": null,
   "metadata": {},
   "outputs": [],
   "source": [
    "rpkm = nc.Normalization(countFile=\"pySeqRNA_results/Counts_final.txt\", featureFile=\"pyseqrna/example/data/arabidopsis10.gff\")"
   ]
  },
  {
   "cell_type": "code",
   "execution_count": null,
   "metadata": {},
   "outputs": [],
   "source": [
    "rpk = rpkm.meanRatioCount()"
   ]
  },
  {
   "cell_type": "code",
   "execution_count": null,
   "metadata": {},
   "outputs": [],
   "source": [
    "rpk.to_excel(\"pySeqRNA_results/rpkm.xlsx\")"
   ]
  },
  {
   "cell_type": "code",
   "execution_count": null,
   "metadata": {},
   "outputs": [],
   "source": [
    "rcount= pd.read_excel(\"pySeqRNA_results/rpkm.xlsx\")"
   ]
  },
  {
   "cell_type": "code",
   "execution_count": null,
   "metadata": {},
   "outputs": [],
   "source": [
    "rcount"
   ]
  },
  {
   "cell_type": "code",
   "execution_count": null,
   "metadata": {},
   "outputs": [],
   "source": [
    "from pyseqrna import pyseqrna_plots as pp"
   ]
  },
  {
   "cell_type": "code",
   "execution_count": null,
   "metadata": {},
   "outputs": [],
   "source": [
    "heatmap, ax = pp.plotHeatmap(dd,combinations=comb,num=50, type='deg')"
   ]
  },
  {
   "cell_type": "code",
   "execution_count": null,
   "metadata": {},
   "outputs": [],
   "source": [
    "from pyseqrna import gene_ontology as go"
   ]
  },
  {
   "cell_type": "code",
   "execution_count": null,
   "metadata": {},
   "outputs": [],
   "source": [
    "bdata= go.query('athaliana')"
   ]
  },
  {
   "cell_type": "markdown",
   "metadata": {},
   "source": []
  },
  {
   "cell_type": "code",
   "execution_count": null,
   "metadata": {},
   "outputs": [],
   "source": [
    "gdata = go.preprocessBioMart(bdata)"
   ]
  },
  {
   "cell_type": "code",
   "execution_count": null,
   "metadata": {},
   "outputs": [],
   "source": [
    "results = go.enrichGO('athaliana',\"pySeqRNA_results/diff_genes/C1-D6.txt\")"
   ]
  },
  {
   "cell_type": "code",
   "execution_count": null,
   "metadata": {},
   "outputs": [],
   "source": [
    "results"
   ]
  },
  {
   "cell_type": "code",
   "execution_count": null,
   "metadata": {},
   "outputs": [],
   "source": [
    "df=bdata\n",
    "import numpy as np\n",
    "df2 = df[df['GO_ID'].notna()]\n",
    "gg = list(df2['Gene'])\n",
    "x = np.array(gg)\n",
    "\n",
    "bg_count = len(np.unique(x))\n",
    "\n",
    "bg_count\n"
   ]
  },
  {
   "cell_type": "code",
   "execution_count": null,
   "metadata": {},
   "outputs": [],
   "source": [
    "cd= pd.read_excel(\"pySeqRNA_results.1/M1-V6_deg.xlsx\")"
   ]
  },
  {
   "cell_type": "code",
   "execution_count": null,
   "metadata": {},
   "outputs": [],
   "source": [
    "gdata"
   ]
  },
  {
   "cell_type": "code",
   "execution_count": null,
   "metadata": {},
   "outputs": [],
   "source": [
    "from pyseqrna import pathway\n"
   ]
  },
  {
   "cell_type": "code",
   "execution_count": null,
   "metadata": {},
   "outputs": [],
   "source": [
    "dk = pathway.enrichKEGG(file=\"pySeqRNA_results/diff_genes/C1-D6.txt\", species='ath')"
   ]
  },
  {
   "cell_type": "code",
   "execution_count": null,
   "metadata": {},
   "outputs": [],
   "source": []
  }
 ],
 "metadata": {
  "interpreter": {
   "hash": "68add8a62ec0494f503bfd87f490205670fb58cdd6e788ec5ca57569f6a52452"
  },
  "kernelspec": {
   "display_name": "Python 3.8.8 64-bit (conda)",
   "name": "python3"
  },
  "language_info": {
   "codemirror_mode": {
    "name": "ipython",
    "version": 3
   },
   "file_extension": ".py",
   "mimetype": "text/x-python",
   "name": "python",
   "nbconvert_exporter": "python",
   "pygments_lexer": "ipython3",
   "version": "3.8.8"
  },
  "orig_nbformat": 4
 },
 "nbformat": 4,
 "nbformat_minor": 2
}
