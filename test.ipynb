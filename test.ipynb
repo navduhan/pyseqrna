{
 "cells": [
  {
   "cell_type": "markdown",
   "metadata": {},
   "source": [
    "# Arabidopsis transcriptome study under high light stress"
   ]
  },
  {
   "cell_type": "code",
   "execution_count": 1,
   "metadata": {},
   "outputs": [],
   "source": [
    "# Import modules from pyseqrna package\n",
    "\n",
    "from pyseqrna import pyseqrna_utils as pu\n",
    "from pyseqrna import quality_check as qc\n",
    "from pyseqrna import quality_trimming as qt\n",
    "from pyseqrna import  aligners as al\n",
    "from pyseqrna import pyseqrna_stats as ps\n",
    "from pyseqrna import quantification as quants\n",
    "# from pyseqrna import differential_expression as de\n",
    "from pyseqrna import pyseqrna_plots as pp\n",
    "from pyseqrna import multimapped_groups as mmg\n",
    "import pandas as pd\n",
    "import dill\n",
    "from waiting import wait"
   ]
  },
  {
   "cell_type": "code",
   "execution_count": null,
   "metadata": {},
   "outputs": [],
   "source": []
  },
  {
   "cell_type": "code",
   "execution_count": 2,
   "metadata": {},
   "outputs": [
    {
     "name": "stderr",
     "output_type": "stream",
     "text": [
      "[15:21:26]  <ipython-input-2-09f797b7f757> :: INFO : Analysis started\n"
     ]
    }
   ],
   "source": [
    "# initialize the logger\n",
    "from pyseqrna.pyseqrna_utils import PyseqrnaLogger\n",
    "\n",
    "log = PyseqrnaLogger(mode='w', log='pp')\n",
    "\n",
    "log.info(\"Analysis started\")"
   ]
  },
  {
   "cell_type": "code",
   "execution_count": 3,
   "metadata": {},
   "outputs": [
    {
     "name": "stderr",
     "output_type": "stream",
     "text": [
      "[15:21:31]  pyseqrna_utils :: INFO : Reading input samples File \n",
      "[15:21:31]  pyseqrna_utils :: INFO : Input file /home/naveen/Documents/Phd_work/pySeqRNA/pySeqRNA/example/input_Sample.txt read succesfully\n",
      "[15:21:31]  pyseqrna_utils :: INFO : Combination created succesfully from /home/naveen/Documents/Phd_work/pySeqRNA/pySeqRNA/example/input_Sample.txt\n",
      "[15:21:31]  pyseqrna_utils :: INFO : targets dataframe for differenatial created succesfully from /home/naveen/Documents/Phd_work/pySeqRNA/pySeqRNA/example/input_Sample.txt\n"
     ]
    }
   ],
   "source": [
    "# Read input samples form input file\n",
    "data = pu.read_input_file(\"/home/naveen/Documents/Phd_work/pySeqRNA/pySeqRNA/example/input_Sample.txt\", \"/home/naveen/Documents/Phd_work/pySeqRNA/pySeqRNA/example/data/\" )\n",
    "samples= data['samples']"
   ]
  },
  {
   "cell_type": "code",
   "execution_count": 4,
   "metadata": {},
   "outputs": [
    {
     "data": {
      "text/plain": [
       "{'M1A': ['M1A',\n",
       "  'M1',\n",
       "  '/home/naveen/Documents/Phd_work/pySeqRNA/pySeqRNA/example/data/SRR446027_1.fastq.gz'],\n",
       " 'M1B': ['M1B',\n",
       "  'M1',\n",
       "  '/home/naveen/Documents/Phd_work/pySeqRNA/pySeqRNA/example/data/SRR446028_1.fastq.gz'],\n",
       " 'A1A': ['A1A',\n",
       "  'A1',\n",
       "  '/home/naveen/Documents/Phd_work/pySeqRNA/pySeqRNA/example/data/SRR446029_1.fastq.gz'],\n",
       " 'A1B': ['A1B',\n",
       "  'A1',\n",
       "  '/home/naveen/Documents/Phd_work/pySeqRNA/pySeqRNA/example/data/SRR446030_1.fastq.gz'],\n",
       " 'V1A': ['V1A',\n",
       "  'V1',\n",
       "  '/home/naveen/Documents/Phd_work/pySeqRNA/pySeqRNA/example/data/SRR446031_1.fastq.gz'],\n",
       " 'V1B': ['V1B',\n",
       "  'V1',\n",
       "  '/home/naveen/Documents/Phd_work/pySeqRNA/pySeqRNA/example/data/SRR446032_1.fastq.gz'],\n",
       " 'M6A': ['M6A',\n",
       "  'M6',\n",
       "  '/home/naveen/Documents/Phd_work/pySeqRNA/pySeqRNA/example/data/SRR446033_1.fastq.gz'],\n",
       " 'M6B': ['M6B',\n",
       "  'M6',\n",
       "  '/home/naveen/Documents/Phd_work/pySeqRNA/pySeqRNA/example/data/SRR446034_1.fastq.gz'],\n",
       " 'A6A': ['A6A',\n",
       "  'A6',\n",
       "  '/home/naveen/Documents/Phd_work/pySeqRNA/pySeqRNA/example/data/SRR446035_1.fastq.gz'],\n",
       " 'A6B': ['A6B',\n",
       "  'A6',\n",
       "  '/home/naveen/Documents/Phd_work/pySeqRNA/pySeqRNA/example/data/SRR446036_1.fastq.gz'],\n",
       " 'V6A': ['V6A',\n",
       "  'V6',\n",
       "  '/home/naveen/Documents/Phd_work/pySeqRNA/pySeqRNA/example/data/SRR446037_1.fastq.gz'],\n",
       " 'V6B': ['V6B',\n",
       "  'V6',\n",
       "  '/home/naveen/Documents/Phd_work/pySeqRNA/pySeqRNA/example/data/SRR446038_1.fastq.gz'],\n",
       " 'M12A': ['M12A',\n",
       "  'M12',\n",
       "  '/home/naveen/Documents/Phd_work/pySeqRNA/pySeqRNA/example/data/SRR446039_1.fastq.gz'],\n",
       " 'M12B': ['M12B',\n",
       "  'M12',\n",
       "  '/home/naveen/Documents/Phd_work/pySeqRNA/pySeqRNA/example/data/SRR446040_1.fastq.gz'],\n",
       " 'A12A': ['A12A',\n",
       "  'A12',\n",
       "  '/home/naveen/Documents/Phd_work/pySeqRNA/pySeqRNA/example/data/SRR446041_1.fastq.gz'],\n",
       " 'A12B': ['A12B',\n",
       "  'A12',\n",
       "  '/home/naveen/Documents/Phd_work/pySeqRNA/pySeqRNA/example/data/SRR446042_1.fastq.gz'],\n",
       " 'V12A': ['V12A',\n",
       "  'V12',\n",
       "  '/home/naveen/Documents/Phd_work/pySeqRNA/pySeqRNA/example/data/SRR446043_1.fastq.gz'],\n",
       " 'V12B': ['V12B',\n",
       "  'V12',\n",
       "  '/home/naveen/Documents/Phd_work/pySeqRNA/pySeqRNA/example/data/SRR446044_1.fastq.gz']}"
      ]
     },
     "execution_count": 4,
     "metadata": {},
     "output_type": "execute_result"
    }
   ],
   "source": [
    "samples"
   ]
  },
  {
   "cell_type": "code",
   "execution_count": null,
   "metadata": {},
   "outputs": [],
   "source": [
    "outdir=\"pySeqRNA_results\""
   ]
  },
  {
   "cell_type": "code",
   "execution_count": null,
   "metadata": {},
   "outputs": [],
   "source": [
    "import glob \n",
    "\n",
    "outa = glob.glob(\"pySeqRNA_results/star_results.1/*out.bam\")\n",
    "\n"
   ]
  },
  {
   "cell_type": "code",
   "execution_count": null,
   "metadata": {},
   "outputs": [],
   "source": [
    "outalign={}\n",
    "for s in samples:\n",
    "    for o in outa:\n",
    "        if s in o:\n",
    "            outalign[s]=[samples[s][0], samples[s][1],o]\n",
    "        "
   ]
  },
  {
   "cell_type": "code",
   "execution_count": null,
   "metadata": {},
   "outputs": [],
   "source": [
    "mmmgs = mmg.countMMG(sampleDict=samples, bamDict=outalign, gff=\"/home/naveen/Downloads/arabidopsis/Arabidopsis_thaliana.TAIR10.51.gff3\")"
   ]
  },
  {
   "cell_type": "code",
   "execution_count": null,
   "metadata": {},
   "outputs": [],
   "source": [
    "# initial quality check\n",
    "outfastqc, jobfastqc = qc.fastqcRun(sampleDict=samples, slurm=True,cpu=30,mem=200, outDir=outdir)\n",
    "\n",
    "for job in jobfastqc:\n",
    "    wait(lambda: pu.check_status(job), waiting_for=\"quality to finish\")\n",
    "    log.info(f\"Quality check completed for job {job}\")\n",
    "\n",
    "log.info(\"Read quality check completed succesfully\")\n",
    "\n"
   ]
  },
  {
   "cell_type": "code",
   "execution_count": null,
   "metadata": {},
   "outputs": [],
   "source": [
    "# Run trimming using trimming module\n",
    "outtrim, jobtrim= qt.trim_galoreRun(sampleDict=samples,  slurm=True, cpu=40,mem=200)\n",
    "\n",
    "for job in jobtrim:\n",
    "    wait(lambda: pu.check_status(job), waiting_for=\"trimming to finish\")\n",
    "    log.info(f\"Trimming completed for job {job}\")\n",
    "\n",
    "log.info(\"Read trimming completed succesfully\")"
   ]
  },
  {
   "cell_type": "code",
   "execution_count": null,
   "metadata": {},
   "outputs": [],
   "source": [
    "aligner = al.STAR_Aligner(genome=\"/home/naveen/Downloads/arabidopsis/Arabidopsis_thaliana.TAIR10.dna.toplevel.fa\", slurm=True, outDir=outdir)"
   ]
  },
  {
   "cell_type": "markdown",
   "metadata": {},
   "source": []
  },
  {
   "cell_type": "code",
   "execution_count": null,
   "metadata": {},
   "outputs": [],
   "source": [
    "job = aligner.build_index()\n",
    "wait(lambda: pu.check_status(job), waiting_for=\"alignment to finish\")\n",
    "log.info(f\"Indexing completed for job {job}\")\n",
    "log.info(\"Genome indexing completed succesfully\")"
   ]
  },
  {
   "cell_type": "code",
   "execution_count": null,
   "metadata": {},
   "outputs": [],
   "source": [
    "aligner.check_index()"
   ]
  },
  {
   "cell_type": "code",
   "execution_count": null,
   "metadata": {},
   "outputs": [],
   "source": [
    "outalign, jobalign = aligner.run_Alignment(target=outtrim, cpu=20, mem=200)\n",
    "\n",
    "for job in jobalign:\n",
    "    wait(lambda: pu.check_status(job), waiting_for=\"alignment to finish\")\n",
    "    log.info(f\"Alignment completed for job {job}\")\n",
    "log.info(\"Read alignment completed succesfully\")"
   ]
  },
  {
   "cell_type": "code",
   "execution_count": null,
   "metadata": {},
   "outputs": [],
   "source": [
    "df= ps.align_stats(sampleDict=samples,trimDict=outtrim,bamDict=outalign)"
   ]
  },
  {
   "cell_type": "code",
   "execution_count": null,
   "metadata": {},
   "outputs": [],
   "source": [
    "df.to_excel(outdir+\"/alignment_stats.xlsx\", index=False)"
   ]
  },
  {
   "cell_type": "code",
   "execution_count": null,
   "metadata": {},
   "outputs": [],
   "source": [
    "a= quants.featureCount(bamDict=outalign, gff=\"/home/naveen/Downloads/arabidopsis/Arabidopsis_thaliana.TAIR10.51.gff3\", outDir=outdir)"
   ]
  },
  {
   "cell_type": "code",
   "execution_count": null,
   "metadata": {},
   "outputs": [],
   "source": [
    "counts= pd.read_csv(outdir+\"/Counts_final.txt\", sep=\"\\t\")"
   ]
  },
  {
   "cell_type": "code",
   "execution_count": null,
   "metadata": {},
   "outputs": [],
   "source": [
    "targets= data['targets']\n",
    "comb= data['combinations']"
   ]
  },
  {
   "cell_type": "code",
   "execution_count": null,
   "metadata": {},
   "outputs": [],
   "source": [
    "comb = ['GL0.5-HL0.5','GL6-HL6','GL6-HL12','GL48-HL48','GL72-HL72','R14-HL72', 'R14-GL72']"
   ]
  },
  {
   "cell_type": "code",
   "execution_count": null,
   "metadata": {},
   "outputs": [],
   "source": [
    "dd= de.runDESeq2(countDF=counts,targetFile=targets,design='sample', subset=False, combination=comb)"
   ]
  },
  {
   "cell_type": "code",
   "execution_count": null,
   "metadata": {},
   "outputs": [],
   "source": [
    "dd= de.run_edgeR(countDF=counts,targetFile=targets, subset=False, combination=comb)"
   ]
  },
  {
   "cell_type": "code",
   "execution_count": null,
   "metadata": {},
   "outputs": [],
   "source": [
    "import os \n",
    "dd.to_excel(os.path.join(outdir,\"Raw_DEGs_all_edgeR.xlsx\"), index=False)"
   ]
  },
  {
   "cell_type": "code",
   "execution_count": null,
   "metadata": {},
   "outputs": [],
   "source": [
    "# dd= pd.read_excel(outdir+\"/Raw_DEGs_all_edgeR.xlsx\")\n",
    "filtered_DEG = de.degFilter(degDF=dd, CompareList=comb, FDR=0.05, FOLD=2)"
   ]
  },
  {
   "cell_type": "code",
   "execution_count": null,
   "metadata": {},
   "outputs": [],
   "source": [
    "summary= filtered_DEG['summary']\n",
    "summary"
   ]
  },
  {
   "cell_type": "code",
   "execution_count": null,
   "metadata": {},
   "outputs": [],
   "source": [
    "filtered_DEG.keys()"
   ]
  },
  {
   "cell_type": "code",
   "execution_count": null,
   "metadata": {},
   "outputs": [],
   "source": [
    "summary.to_excel(outdir+\"/DEG_summary.xlsx\", index=False)"
   ]
  },
  {
   "cell_type": "code",
   "execution_count": null,
   "metadata": {},
   "outputs": [],
   "source": [
    "wd= pd.ExcelWriter(os.path.join(outdir,\"filtered_down_DEGs.xlsx\"))\n",
    "for key, value in filtered_DEG['filtereddown'].items():\n",
    "    value.to_excel(wd,sheet_name=key)\n",
    "    wd.save()\n",
    "wd.close()"
   ]
  },
  {
   "cell_type": "markdown",
   "metadata": {},
   "source": []
  },
  {
   "cell_type": "code",
   "execution_count": null,
   "metadata": {},
   "outputs": [],
   "source": [
    "pu.getGenes(os.path.join(outdir,\"filtered_DEGs.xlsx\"), combinations=comb)"
   ]
  },
  {
   "cell_type": "code",
   "execution_count": null,
   "metadata": {},
   "outputs": [],
   "source": [
    "outdir=\"pySeqRNA_results\""
   ]
  },
  {
   "cell_type": "code",
   "execution_count": null,
   "metadata": {},
   "outputs": [],
   "source": [
    "from pyseqrna import normalize_counts as nc"
   ]
  },
  {
   "cell_type": "code",
   "execution_count": null,
   "metadata": {},
   "outputs": [],
   "source": [
    "rpkm = nc.Normalization(countFile=outdir+\"/Counts_final.txt\", featureFile=\"/home/naveen/Downloads/arabidopsis/Arabidopsis_thaliana.TAIR10.51.gff3\")"
   ]
  },
  {
   "cell_type": "code",
   "execution_count": null,
   "metadata": {},
   "outputs": [],
   "source": [
    "rpk = rpkm.RPKM()"
   ]
  },
  {
   "cell_type": "code",
   "execution_count": null,
   "metadata": {},
   "outputs": [],
   "source": [
    "rpk[0].to_excel(outdir+\"/RPKM.xlsx\", index=False)"
   ]
  },
  {
   "cell_type": "code",
   "execution_count": null,
   "metadata": {},
   "outputs": [],
   "source": [
    "\n",
    "rpk[1].savefig(\"cpm.png\",bbbox_anchor='tight', dpi=300)"
   ]
  },
  {
   "cell_type": "code",
   "execution_count": null,
   "metadata": {},
   "outputs": [],
   "source": [
    "import seaborn as sns\n",
    "import numpy as np\n",
    "import matplotlib.pyplot as plt\n",
    "import scipy.cluster.hierarchy as shc"
   ]
  },
  {
   "cell_type": "code",
   "execution_count": null,
   "metadata": {},
   "outputs": [],
   "source": [
    "# a= np.log(rpk)"
   ]
  },
  {
   "cell_type": "code",
   "execution_count": null,
   "metadata": {},
   "outputs": [],
   "source": [
    "r =rpk.corr()"
   ]
  },
  {
   "cell_type": "code",
   "execution_count": null,
   "metadata": {},
   "outputs": [],
   "source": []
  },
  {
   "cell_type": "code",
   "execution_count": null,
   "metadata": {},
   "outputs": [],
   "source": [
    "linked = shc.linkage(r, 'ward')\n"
   ]
  },
  {
   "cell_type": "code",
   "execution_count": null,
   "metadata": {},
   "outputs": [],
   "source": [
    "R = shc.dendrogram(\n",
    "                linked,\n",
    "                truncate_mode='lastp',  # show only the last p merged clusters\n",
    "                p=len(r.columns),  # show only the last p merged clusters\n",
    "                no_plot=True,\n",
    "                )"
   ]
  },
  {
   "cell_type": "code",
   "execution_count": null,
   "metadata": {},
   "outputs": [],
   "source": [
    "temp = {R[\"leaves\"][ii]: r.columns[ii] for ii in range(len(R[\"leaves\"]))}\n",
    "def llf(xx):\n",
    "    return \"{}\".format(temp[xx])"
   ]
  },
  {
   "cell_type": "code",
   "execution_count": null,
   "metadata": {},
   "outputs": [],
   "source": [
    "shc.dendrogram(\n",
    "            linked,\n",
    "            truncate_mode='lastp',  # show only the last p merged clusters\n",
    "            p=len(r.columns),  # show only the last p merged clusters\n",
    "            leaf_label_func=llf,\n",
    "            orientation='left',\n",
    "           \n",
    "            leaf_font_size=8.,\n",
    "            show_contracted=True,  # to get a distribution impression in truncated branches\n",
    "            )\n",
    "ax = plt.gca()\n",
    "\n",
    "\n",
    "ax.spines['top'].set_visible(False)\n",
    "ax.spines['right'].set_visible(False)\n",
    "ax.spines['left'].set_visible(False)\n",
    "ax.spines['bottom'].set_visible(False)\n",
    "for xlabel_i in ax.get_xticklabels():\n",
    "    xlabel_i.set_visible(False)\n",
    "    xlabel_i.set_fontsize(0.0)\n",
    "for tick in ax.get_xticklines():\n",
    "    tick.set_visible(False)\n",
    "\n",
    "plt.savefig('deg.png', dpi=300, bbox_inches='tight')"
   ]
  },
  {
   "cell_type": "code",
   "execution_count": null,
   "metadata": {},
   "outputs": [],
   "source": [
    "import pandas as pd\n",
    "from pyseqrna import pyseqrna_plots as pp\n",
    "from pyseqrna import gene_ontology as go"
   ]
  },
  {
   "cell_type": "code",
   "execution_count": null,
   "metadata": {},
   "outputs": [],
   "source": [
    "rpk.to_excel(outdir+\"/medianRatiocount.xlsx\")"
   ]
  },
  {
   "cell_type": "code",
   "execution_count": null,
   "metadata": {},
   "outputs": [],
   "source": [
    "result = pd.read_excel(\"pySeqRNA_results/Raw_DEGs_all.xlsx\")"
   ]
  },
  {
   "cell_type": "code",
   "execution_count": null,
   "metadata": {},
   "outputs": [],
   "source": [
    "outvolcano = os.path.join(outdir,\"Volcano_Plots\")\n",
    "pu.make_directory(outvolcano)"
   ]
  },
  {
   "cell_type": "code",
   "execution_count": null,
   "metadata": {},
   "outputs": [],
   "source": [
    "for c in comb:\n",
    "        x,y =pp.plotVolcano(result,c,2)\n",
    "        x.savefig(outvolcano+\"/\"+c+\"_volcano.png\", dpi=300)"
   ]
  },
  {
   "cell_type": "code",
   "execution_count": null,
   "metadata": {},
   "outputs": [],
   "source": [
    "heatmap, ax = pp.plotHeatmap(result,comb,num=50, type='degs')\n",
    "\n",
    "heatmap.savefig(os.path.join(outdir,\"Top50_gene.png\"), dpi=300)"
   ]
  },
  {
   "cell_type": "code",
   "execution_count": null,
   "metadata": {},
   "outputs": [],
   "source": [
    "pu.getGenes(os.path.join(outdir,\"filtered_DEGs.xlsx\"),combinations=comb)"
   ]
  },
  {
   "cell_type": "code",
   "execution_count": null,
   "metadata": {},
   "outputs": [],
   "source": [
    "outgo = os.path.join(outdir,\"Gene_Ontology\")\n",
    "pu.make_directory(outgo)\n",
    "gdata = go.query('athaliana')\n"
   ]
  },
  {
   "cell_type": "code",
   "execution_count": null,
   "metadata": {},
   "outputs": [],
   "source": [
    "for c in comb:\n",
    "    file = f\"{outdir}/diff_genes/{c}.txt\"\n",
    "    ontology_results = go.enrichGO(gdata, file)\n",
    "    ontology_results.to_csv(os.path.join(outgo, f\"{c}_gene_ontology.txt\"), sep=\"\\t\", index=False)"
   ]
  },
  {
   "cell_type": "code",
   "execution_count": null,
   "metadata": {},
   "outputs": [],
   "source": [
    "import dill\n",
    "dill.load_session(\"arabidopsis1.pyseqrna\")"
   ]
  },
  {
   "cell_type": "code",
   "execution_count": null,
   "metadata": {},
   "outputs": [],
   "source": [
    "from pyseqrna import pathway as pt\n",
    "from statsmodels.stats.multitest import multipletests\n",
    "import scipy.stats as stats"
   ]
  },
  {
   "cell_type": "code",
   "execution_count": null,
   "metadata": {},
   "outputs": [],
   "source": [
    "outkegg = os.path.join(outdir,\"KEGG_pathway\")\n",
    "\n"
   ]
  },
  {
   "cell_type": "code",
   "execution_count": null,
   "metadata": {},
   "outputs": [],
   "source": [
    "df, background_count = pt.kegg_list('ath')"
   ]
  },
  {
   "cell_type": "code",
   "execution_count": null,
   "metadata": {},
   "outputs": [],
   "source": [
    "for c in comb:\n",
    "    file = f\"{outdir}/diff_genes/{c}.txt\"\n",
    "    kegg_results = pt.enrichKEGG(file, df, background_count)\n",
    "    kegg_results.to_csv(os.path.join(outkegg, f\"{c}_kegg.txt\"), sep=\"\\t\", index=False)"
   ]
  },
  {
   "cell_type": "code",
   "execution_count": null,
   "metadata": {},
   "outputs": [],
   "source": [
    "\n",
    "dill.load_session(\"arabidopsis.pyseqrna\")"
   ]
  }
 ],
 "metadata": {
  "interpreter": {
   "hash": "68add8a62ec0494f503bfd87f490205670fb58cdd6e788ec5ca57569f6a52452"
  },
  "kernelspec": {
   "display_name": "Python 3.8.8 64-bit (conda)",
   "name": "python3"
  },
  "language_info": {
   "codemirror_mode": {
    "name": "ipython",
    "version": 3
   },
   "file_extension": ".py",
   "mimetype": "text/x-python",
   "name": "python",
   "nbconvert_exporter": "python",
   "pygments_lexer": "ipython3",
   "version": "3.8.8"
  },
  "orig_nbformat": 4
 },
 "nbformat": 4,
 "nbformat_minor": 2
}
