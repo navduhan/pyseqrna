{
 "cells": [
  {
   "cell_type": "code",
   "execution_count": 1,
   "metadata": {},
   "outputs": [
    {
     "name": "stderr",
     "output_type": "stream",
     "text": [
      "During startup - Warning messages:\n",
      "1: package ‘methods’ was built under R version 4.0.5 \n",
      "2: package ‘datasets’ was built under R version 4.0.5 \n",
      "3: package ‘utils’ was built under R version 4.0.5 \n",
      "4: package ‘grDevices’ was built under R version 4.0.5 \n",
      "5: package ‘graphics’ was built under R version 4.0.5 \n",
      "6: package ‘stats’ was built under R version 4.0.5 \n"
     ]
    }
   ],
   "source": [
    "from pyseqrna import pyseqrna_utils as pu\n",
    "from pyseqrna import quality_check as qc\n",
    "from pyseqrna import quality_trimming as qt\n",
    "from pyseqrna import  aligners as al\n",
    "from pyseqrna import pyseqrna_stats as ps\n",
    "from pyseqrna import quantification as quants\n",
    "from pyseqrna import differential_expression as de\n",
    "from pyseqrna import pyseqrna_plots as pp\n",
    "from pyseqrna import multimapped_groups as mmg\n",
    "import pandas as pd\n",
    "import dill"
   ]
  },
  {
   "cell_type": "code",
   "execution_count": null,
   "metadata": {},
   "outputs": [],
   "source": [
    "from pyseqrna.pyseqrna_utils import PyseqrnaLogger\n",
    "\n",
    "log = PyseqrnaLogger(mode='w', log='pp')\n",
    "\n",
    "log.info(\"Analysis started\")"
   ]
  },
  {
   "cell_type": "code",
   "execution_count": 2,
   "metadata": {},
   "outputs": [
    {
     "name": "stderr",
     "output_type": "stream",
     "text": [
      "[13:48:20]  pyseqrna_utils :: INFO : Reading input samples File \n",
      "[13:48:20]  pyseqrna_utils :: INFO : Input file pyseqrna/example/input_Sample_PE.txt read succesfully\n",
      "[13:48:20]  pyseqrna_utils :: INFO : Combination created succesfully from pyseqrna/example/input_Sample_PE.txt\n",
      "[13:48:20]  pyseqrna_utils :: INFO : targets dataframe for differenatial created succesfully from pyseqrna/example/input_Sample_PE.txt\n"
     ]
    }
   ],
   "source": [
    "data = pu.read_input_file(\"pyseqrna/example/input_Sample_PE.txt\", \"pyseqrna/example/data/\" , paired=True)\n",
    "samples= data['samples']"
   ]
  },
  {
   "cell_type": "code",
   "execution_count": null,
   "metadata": {},
   "outputs": [],
   "source": [
    "a, b = qc.fastqcRun(sampleDict=samples,paired=True)"
   ]
  },
  {
   "cell_type": "code",
   "execution_count": null,
   "metadata": {},
   "outputs": [],
   "source": [
    "import shutil\n",
    "\n",
    "shutil.which('fastqc')"
   ]
  },
  {
   "cell_type": "code",
   "execution_count": 3,
   "metadata": {},
   "outputs": [],
   "source": [
    "targets= data['targets']\n",
    "comb= data['combinations']"
   ]
  },
  {
   "cell_type": "code",
   "execution_count": null,
   "metadata": {},
   "outputs": [],
   "source": [
    "dill.dump_session(\"test.pyseqrna\")"
   ]
  },
  {
   "cell_type": "code",
   "execution_count": 4,
   "metadata": {},
   "outputs": [
    {
     "name": "stderr",
     "output_type": "stream",
     "text": [
      "[13:48:25]  __main__ :: INFO : Analysis started at Sun Nov 21 13:48:25 2021\n"
     ]
    }
   ],
   "source": [
    "dill.load_session(\"test.pyseqrna\")"
   ]
  },
  {
   "cell_type": "code",
   "execution_count": 8,
   "metadata": {},
   "outputs": [
    {
     "name": "stderr",
     "output_type": "stream",
     "text": [
      "[E::idx_find_and_load] Could not retrieve index file for '/home/nav/Documents/Projects/pyseqrna/pySeqRNA_results/star_results/M1AAligned.out.bam'\n",
      "[E::idx_find_and_load] Could not retrieve index file for '/home/nav/Documents/Projects/pyseqrna/pySeqRNA_results/star_results/M1AAligned.out.bam'\n",
      "[E::idx_find_and_load] Could not retrieve index file for '/home/nav/Documents/Projects/pyseqrna/pySeqRNA_results/star_results/M1AAligned.out.bam'\n",
      "[E::idx_find_and_load] Could not retrieve index file for '/home/nav/Documents/Projects/pyseqrna/pySeqRNA_results/star_results/M1AAligned.out.bam'\n",
      "[E::idx_find_and_load] Could not retrieve index file for '/home/nav/Documents/Projects/pyseqrna/pySeqRNA_results/star_results/M1AAligned.out.bam'\n",
      "[E::idx_find_and_load] Could not retrieve index file for '/home/nav/Documents/Projects/pyseqrna/pySeqRNA_results/star_results/M1AAligned.out.bam'\n",
      "[E::idx_find_and_load] Could not retrieve index file for '/home/nav/Documents/Projects/pyseqrna/pySeqRNA_results/star_results/M1AAligned.out.bam'\n",
      "[E::idx_find_and_load] Could not retrieve index file for '/home/nav/Documents/Projects/pyseqrna/pySeqRNA_results/star_results/M1AAligned.out.bam'\n",
      "[E::idx_find_and_load] Could not retrieve index file for '/home/nav/Documents/Projects/pyseqrna/pySeqRNA_results/star_results/M1AAligned.out.bam'\n",
      "[E::idx_find_and_load] Could not retrieve index file for '/home/nav/Documents/Projects/pyseqrna/pySeqRNA_results/star_results/M1AAligned.out.bam'\n",
      "[E::idx_find_and_load] Could not retrieve index file for '/home/nav/Documents/Projects/pyseqrna/pySeqRNA_results/star_results/M1AAligned.out.bam'\n",
      "[E::idx_find_and_load] Could not retrieve index file for '/home/nav/Documents/Projects/pyseqrna/pySeqRNA_results/star_results/M1AAligned.out.bam'\n",
      "[E::idx_find_and_load] Could not retrieve index file for '/home/nav/Documents/Projects/pyseqrna/pySeqRNA_results/star_results/M1AAligned.out.bam'\n",
      "[E::idx_find_and_load] Could not retrieve index file for '/home/nav/Documents/Projects/pyseqrna/pySeqRNA_results/star_results/M1AAligned.out.bam'\n",
      "[E::idx_find_and_load] Could not retrieve index file for '/home/nav/Documents/Projects/pyseqrna/pySeqRNA_results/star_results/M1AAligned.out.bam'\n",
      "[E::idx_find_and_load] Could not retrieve index file for '/home/nav/Documents/Projects/pyseqrna/pySeqRNA_results/star_results/M1AAligned.out.bam'\n",
      "[E::idx_find_and_load] Could not retrieve index file for '/home/nav/Documents/Projects/pyseqrna/pySeqRNA_results/star_results/M1AAligned.out.bam'\n",
      "[E::idx_find_and_load] Could not retrieve index file for '/home/nav/Documents/Projects/pyseqrna/pySeqRNA_results/star_results/M1AAligned.out.bam'\n"
     ]
    }
   ],
   "source": [
    "a = mmg.Bam2Bed(outalign)"
   ]
  },
  {
   "cell_type": "code",
   "execution_count": 12,
   "metadata": {},
   "outputs": [],
   "source": [
    "file=\"pyseqrna/example/data/tair10.gff3\"\n",
    "feature='gene'\n",
    "from numpy import append\n",
    "import pysam\n",
    "import re\n",
    "import functools\n",
    "import logging\n",
    "import pandas as pd\n",
    "import subprocess"
   ]
  },
  {
   "cell_type": "code",
   "execution_count": 13,
   "metadata": {},
   "outputs": [],
   "source": [
    "bedFiles = a\n",
    "gffBED = \"pyseqrna/example/data/tair10.gff3.bed\"\n",
    "intbed=[]\n",
    "\n",
    "Cmd =  'sort -k 1,1 -k2,2n '+ gffBED+' >tmp && mv tmp '+ gffBED\n",
    "\n",
    "job_id = subprocess.call(Cmd, shell=True)\n",
    "\n",
    "for sample in bedFiles:\n",
    "\n",
    "    out= sample.split(\".bed\")[0]+\".intersect.bed\"\n",
    "\n",
    "    intbed.append(out)\n",
    "    scmd =  'sort -k 1,1 -k2,2n '+ sample+' >tmp && mv tmp '+ sample\n",
    "    job_id = subprocess.call(scmd, shell=True)\n",
    "    cmd = \"intersectBed -sorted -abam {} -bed -wb -b {} >{}\".format(sample,gffBED, out)\n",
    "    job_id = subprocess.call(cmd, shell=True)\n",
    "\n",
    "    \n",
    "listDF=[]\n",
    "\n",
    "for b in intbed:\n",
    "\n",
    "    dd = {}\n",
    "    with open(b, 'r') as fp:\n",
    "        lines = [line.rstrip() for line in fp]\n",
    "        for line in lines:\n",
    "            data = re.split(\"\\s+\", line)\n",
    "            if data[3] not in dd:\n",
    "                dd[data[3]] = [data[9]]\n",
    "            else:\n",
    "                if data[9] != dd[data[3]]:\n",
    "                    dd[data[3]].append(data[9])\n",
    "\n",
    "    geneKey = []\n",
    "    for key in dd:\n",
    "        geneKey.append('-'.join(sorted(tuple((list(dict.fromkeys(dd[key])))))))  # remove duplicated gene name from list\n",
    "\n",
    "\n",
    "    df=pd.DataFrame(geneKey)\n",
    "\n",
    "\n",
    "    df.columns=[b]\n",
    "    df= pd.DataFrame(df[b].value_counts(dropna=False))\n",
    "    df.reset_index(level=0, inplace=True)\n",
    "    df.columns=['gene', b]\n",
    "    listDF.append(df)\n",
    "\n",
    "df_final = functools.reduce(lambda left,right: pd.merge(left,right, on='gene', how='outer'), listDF).fillna(0)\n",
    "# df_final.to_csv(\"final.txt\", sep=\"\\t\")\n",
    "final=df_final.values.tolist()\n",
    "\n",
    "colna=df_final.columns\n",
    "newNames = ['MMG', 'Gene']"
   ]
  },
  {
   "cell_type": "code",
   "execution_count": 19,
   "metadata": {},
   "outputs": [],
   "source": [
    "for key, value in samples.items():\n",
    "        \n",
    "        for c in colna:\n",
    "           \n",
    "            if c.split(\"/\")[-1].startswith(value[0]):\n",
    "                newNames.append(key)\n",
    "\n",
    "\n",
    "    "
   ]
  },
  {
   "cell_type": "code",
   "execution_count": 28,
   "metadata": {},
   "outputs": [
    {
     "data": {
      "text/html": [
       "<div>\n",
       "<style scoped>\n",
       "    .dataframe tbody tr th:only-of-type {\n",
       "        vertical-align: middle;\n",
       "    }\n",
       "\n",
       "    .dataframe tbody tr th {\n",
       "        vertical-align: top;\n",
       "    }\n",
       "\n",
       "    .dataframe thead th {\n",
       "        text-align: right;\n",
       "    }\n",
       "</style>\n",
       "<table border=\"1\" class=\"dataframe\">\n",
       "  <thead>\n",
       "    <tr style=\"text-align: right;\">\n",
       "      <th></th>\n",
       "      <th>MMG</th>\n",
       "      <th>Gene</th>\n",
       "      <th>M1A</th>\n",
       "      <th>M1B</th>\n",
       "      <th>A1A</th>\n",
       "      <th>A1B</th>\n",
       "      <th>V1A</th>\n",
       "      <th>V1B</th>\n",
       "      <th>M6A</th>\n",
       "      <th>M6B</th>\n",
       "      <th>A6A</th>\n",
       "      <th>A6B</th>\n",
       "      <th>V6A</th>\n",
       "      <th>V6B</th>\n",
       "      <th>M12A</th>\n",
       "      <th>M12B</th>\n",
       "      <th>A12A</th>\n",
       "      <th>A12B</th>\n",
       "      <th>V12A</th>\n",
       "      <th>V12B</th>\n",
       "    </tr>\n",
       "  </thead>\n",
       "  <tbody>\n",
       "    <tr>\n",
       "      <th>0</th>\n",
       "      <td>MMG_1</td>\n",
       "      <td>AT2G01010</td>\n",
       "      <td>23</td>\n",
       "      <td>23</td>\n",
       "      <td>23</td>\n",
       "      <td>23</td>\n",
       "      <td>23</td>\n",
       "      <td>23</td>\n",
       "      <td>23</td>\n",
       "      <td>23</td>\n",
       "      <td>23</td>\n",
       "      <td>23</td>\n",
       "      <td>23</td>\n",
       "      <td>23</td>\n",
       "      <td>23</td>\n",
       "      <td>23</td>\n",
       "      <td>23</td>\n",
       "      <td>23</td>\n",
       "      <td>23</td>\n",
       "      <td>23</td>\n",
       "    </tr>\n",
       "    <tr>\n",
       "      <th>1</th>\n",
       "      <td>MMG_2</td>\n",
       "      <td>AT2G01023</td>\n",
       "      <td>16</td>\n",
       "      <td>16</td>\n",
       "      <td>16</td>\n",
       "      <td>16</td>\n",
       "      <td>16</td>\n",
       "      <td>16</td>\n",
       "      <td>16</td>\n",
       "      <td>16</td>\n",
       "      <td>16</td>\n",
       "      <td>16</td>\n",
       "      <td>16</td>\n",
       "      <td>16</td>\n",
       "      <td>16</td>\n",
       "      <td>16</td>\n",
       "      <td>16</td>\n",
       "      <td>16</td>\n",
       "      <td>16</td>\n",
       "      <td>16</td>\n",
       "    </tr>\n",
       "  </tbody>\n",
       "</table>\n",
       "</div>"
      ],
      "text/plain": [
       "     MMG       Gene M1A M1B A1A A1B V1A V1B M6A M6B A6A A6B V6A V6B M12A M12B  \\\n",
       "0  MMG_1  AT2G01010  23  23  23  23  23  23  23  23  23  23  23  23   23   23   \n",
       "1  MMG_2  AT2G01023  16  16  16  16  16  16  16  16  16  16  16  16   16   16   \n",
       "\n",
       "  A12A A12B V12A V12B  \n",
       "0   23   23   23   23  \n",
       "1   16   16   16   16  "
      ]
     },
     "execution_count": 28,
     "metadata": {},
     "output_type": "execute_result"
    }
   ],
   "source": [
    "dk"
   ]
  },
  {
   "cell_type": "code",
   "execution_count": 27,
   "metadata": {},
   "outputs": [],
   "source": [
    "kk=[]\n",
    "count=0\n",
    "minCount=10\n",
    "percentSample=0.5\n",
    "\n",
    "for f in final:\n",
    "    \n",
    "    a=sum(i > minCount for i in f[1:])\n",
    "    k=len(f[1:])*percentSample\n",
    "    if a >= k:\n",
    "        count += 1\n",
    "        f.insert(0,\"MMG_\"+str(count))\n",
    "        kk.append(f)\n",
    "\n",
    "\n",
    "dk = pd.DataFrame(kk).astype(str).replace('\\.0', '', regex=True)\n",
    "dk.columns=newNames"
   ]
  },
  {
   "cell_type": "code",
   "execution_count": 6,
   "metadata": {},
   "outputs": [
    {
     "name": "stderr",
     "output_type": "stream",
     "text": [
      "[E::idx_find_and_load] Could not retrieve index file for '/home/nav/Documents/Projects/pyseqrna/pySeqRNA_results/star_results/M1AAligned.out.bam'\n",
      "[E::idx_find_and_load] Could not retrieve index file for '/home/nav/Documents/Projects/pyseqrna/pySeqRNA_results/star_results/M1AAligned.out.bam'\n",
      "[E::idx_find_and_load] Could not retrieve index file for '/home/nav/Documents/Projects/pyseqrna/pySeqRNA_results/star_results/M1AAligned.out.bam'\n",
      "[E::idx_find_and_load] Could not retrieve index file for '/home/nav/Documents/Projects/pyseqrna/pySeqRNA_results/star_results/M1AAligned.out.bam'\n",
      "[E::idx_find_and_load] Could not retrieve index file for '/home/nav/Documents/Projects/pyseqrna/pySeqRNA_results/star_results/M1AAligned.out.bam'\n",
      "[E::idx_find_and_load] Could not retrieve index file for '/home/nav/Documents/Projects/pyseqrna/pySeqRNA_results/star_results/M1AAligned.out.bam'\n",
      "[E::idx_find_and_load] Could not retrieve index file for '/home/nav/Documents/Projects/pyseqrna/pySeqRNA_results/star_results/M1AAligned.out.bam'\n",
      "[E::idx_find_and_load] Could not retrieve index file for '/home/nav/Documents/Projects/pyseqrna/pySeqRNA_results/star_results/M1AAligned.out.bam'\n",
      "[E::idx_find_and_load] Could not retrieve index file for '/home/nav/Documents/Projects/pyseqrna/pySeqRNA_results/star_results/M1AAligned.out.bam'\n",
      "[E::idx_find_and_load] Could not retrieve index file for '/home/nav/Documents/Projects/pyseqrna/pySeqRNA_results/star_results/M1AAligned.out.bam'\n",
      "[E::idx_find_and_load] Could not retrieve index file for '/home/nav/Documents/Projects/pyseqrna/pySeqRNA_results/star_results/M1AAligned.out.bam'\n",
      "[E::idx_find_and_load] Could not retrieve index file for '/home/nav/Documents/Projects/pyseqrna/pySeqRNA_results/star_results/M1AAligned.out.bam'\n",
      "[E::idx_find_and_load] Could not retrieve index file for '/home/nav/Documents/Projects/pyseqrna/pySeqRNA_results/star_results/M1AAligned.out.bam'\n",
      "[E::idx_find_and_load] Could not retrieve index file for '/home/nav/Documents/Projects/pyseqrna/pySeqRNA_results/star_results/M1AAligned.out.bam'\n",
      "[E::idx_find_and_load] Could not retrieve index file for '/home/nav/Documents/Projects/pyseqrna/pySeqRNA_results/star_results/M1AAligned.out.bam'\n",
      "[E::idx_find_and_load] Could not retrieve index file for '/home/nav/Documents/Projects/pyseqrna/pySeqRNA_results/star_results/M1AAligned.out.bam'\n",
      "[E::idx_find_and_load] Could not retrieve index file for '/home/nav/Documents/Projects/pyseqrna/pySeqRNA_results/star_results/M1AAligned.out.bam'\n",
      "[E::idx_find_and_load] Could not retrieve index file for '/home/nav/Documents/Projects/pyseqrna/pySeqRNA_results/star_results/M1AAligned.out.bam'\n"
     ]
    },
    {
     "ename": "ValueError",
     "evalue": "Length mismatch: Expected axis has 0 elements, new values have 20 elements",
     "output_type": "error",
     "traceback": [
      "\u001b[0;31m---------------------------------------------------------------------------\u001b[0m",
      "\u001b[0;31mValueError\u001b[0m                                Traceback (most recent call last)",
      "\u001b[0;32m~/Documents/Projects/pyseqrna/pyseqrna.py\u001b[0m in \u001b[0;36m<module>\u001b[0;34m\u001b[0m\n\u001b[0;32m----> 1\u001b[0;31m \u001b[0mdk\u001b[0m \u001b[0;34m=\u001b[0m\u001b[0mmmg\u001b[0m\u001b[0;34m.\u001b[0m\u001b[0mcountMMG\u001b[0m\u001b[0;34m(\u001b[0m\u001b[0msampleDict\u001b[0m\u001b[0;34m=\u001b[0m\u001b[0msamples\u001b[0m\u001b[0;34m,\u001b[0m\u001b[0mbamDict\u001b[0m\u001b[0;34m=\u001b[0m\u001b[0moutalign\u001b[0m\u001b[0;34m,\u001b[0m\u001b[0mgff\u001b[0m\u001b[0;34m=\u001b[0m\u001b[0;34m\"pyseqrna/example/data/tair10.gff3\"\u001b[0m\u001b[0;34m)\u001b[0m\u001b[0;34m\u001b[0m\u001b[0;34m\u001b[0m\u001b[0m\n\u001b[0m",
      "\u001b[0;32m~/Documents/Projects/pyseqrna/pyseqrna/multimapped_groups.py\u001b[0m in \u001b[0;36mcountMMG\u001b[0;34m(sampleDict, bamDict, gff, feature, minCount, percentSample)\u001b[0m\n\u001b[1;32m    169\u001b[0m \u001b[0;34m\u001b[0m\u001b[0m\n\u001b[1;32m    170\u001b[0m     \u001b[0mdk\u001b[0m \u001b[0;34m=\u001b[0m \u001b[0mpd\u001b[0m\u001b[0;34m.\u001b[0m\u001b[0mDataFrame\u001b[0m\u001b[0;34m(\u001b[0m\u001b[0mkk\u001b[0m\u001b[0;34m)\u001b[0m\u001b[0;34m.\u001b[0m\u001b[0mastype\u001b[0m\u001b[0;34m(\u001b[0m\u001b[0mstr\u001b[0m\u001b[0;34m)\u001b[0m\u001b[0;34m.\u001b[0m\u001b[0mreplace\u001b[0m\u001b[0;34m(\u001b[0m\u001b[0;34m'\\.0'\u001b[0m\u001b[0;34m,\u001b[0m \u001b[0;34m''\u001b[0m\u001b[0;34m,\u001b[0m \u001b[0mregex\u001b[0m\u001b[0;34m=\u001b[0m\u001b[0;32mTrue\u001b[0m\u001b[0;34m)\u001b[0m\u001b[0;34m\u001b[0m\u001b[0;34m\u001b[0m\u001b[0m\n\u001b[0;32m--> 171\u001b[0;31m     \u001b[0mdk\u001b[0m\u001b[0;34m.\u001b[0m\u001b[0mcolumns\u001b[0m\u001b[0;34m=\u001b[0m\u001b[0mnewNames\u001b[0m\u001b[0;34m\u001b[0m\u001b[0;34m\u001b[0m\u001b[0m\n\u001b[0m\u001b[1;32m    172\u001b[0m \u001b[0;34m\u001b[0m\u001b[0m\n\u001b[1;32m    173\u001b[0m \u001b[0;34m\u001b[0m\u001b[0m\n",
      "\u001b[0;32m~/miniconda3/envs/pyseqrna/lib/python3.7/site-packages/pandas/core/generic.py\u001b[0m in \u001b[0;36m__setattr__\u001b[0;34m(self, name, value)\u001b[0m\n\u001b[1;32m   5498\u001b[0m         \u001b[0;32mtry\u001b[0m\u001b[0;34m:\u001b[0m\u001b[0;34m\u001b[0m\u001b[0;34m\u001b[0m\u001b[0m\n\u001b[1;32m   5499\u001b[0m             \u001b[0mobject\u001b[0m\u001b[0;34m.\u001b[0m\u001b[0m__getattribute__\u001b[0m\u001b[0;34m(\u001b[0m\u001b[0mself\u001b[0m\u001b[0;34m,\u001b[0m \u001b[0mname\u001b[0m\u001b[0;34m)\u001b[0m\u001b[0;34m\u001b[0m\u001b[0;34m\u001b[0m\u001b[0m\n\u001b[0;32m-> 5500\u001b[0;31m             \u001b[0;32mreturn\u001b[0m \u001b[0mobject\u001b[0m\u001b[0;34m.\u001b[0m\u001b[0m__setattr__\u001b[0m\u001b[0;34m(\u001b[0m\u001b[0mself\u001b[0m\u001b[0;34m,\u001b[0m \u001b[0mname\u001b[0m\u001b[0;34m,\u001b[0m \u001b[0mvalue\u001b[0m\u001b[0;34m)\u001b[0m\u001b[0;34m\u001b[0m\u001b[0;34m\u001b[0m\u001b[0m\n\u001b[0m\u001b[1;32m   5501\u001b[0m         \u001b[0;32mexcept\u001b[0m \u001b[0mAttributeError\u001b[0m\u001b[0;34m:\u001b[0m\u001b[0;34m\u001b[0m\u001b[0;34m\u001b[0m\u001b[0m\n\u001b[1;32m   5502\u001b[0m             \u001b[0;32mpass\u001b[0m\u001b[0;34m\u001b[0m\u001b[0;34m\u001b[0m\u001b[0m\n",
      "\u001b[0;32m~/miniconda3/envs/pyseqrna/lib/python3.7/site-packages/pandas/_libs/properties.pyx\u001b[0m in \u001b[0;36mpandas._libs.properties.AxisProperty.__set__\u001b[0;34m()\u001b[0m\n",
      "\u001b[0;32m~/miniconda3/envs/pyseqrna/lib/python3.7/site-packages/pandas/core/generic.py\u001b[0m in \u001b[0;36m_set_axis\u001b[0;34m(self, axis, labels)\u001b[0m\n\u001b[1;32m    764\u001b[0m     \u001b[0;32mdef\u001b[0m \u001b[0m_set_axis\u001b[0m\u001b[0;34m(\u001b[0m\u001b[0mself\u001b[0m\u001b[0;34m,\u001b[0m \u001b[0maxis\u001b[0m\u001b[0;34m:\u001b[0m \u001b[0mint\u001b[0m\u001b[0;34m,\u001b[0m \u001b[0mlabels\u001b[0m\u001b[0;34m:\u001b[0m \u001b[0mIndex\u001b[0m\u001b[0;34m)\u001b[0m \u001b[0;34m->\u001b[0m \u001b[0;32mNone\u001b[0m\u001b[0;34m:\u001b[0m\u001b[0;34m\u001b[0m\u001b[0;34m\u001b[0m\u001b[0m\n\u001b[1;32m    765\u001b[0m         \u001b[0mlabels\u001b[0m \u001b[0;34m=\u001b[0m \u001b[0mensure_index\u001b[0m\u001b[0;34m(\u001b[0m\u001b[0mlabels\u001b[0m\u001b[0;34m)\u001b[0m\u001b[0;34m\u001b[0m\u001b[0;34m\u001b[0m\u001b[0m\n\u001b[0;32m--> 766\u001b[0;31m         \u001b[0mself\u001b[0m\u001b[0;34m.\u001b[0m\u001b[0m_mgr\u001b[0m\u001b[0;34m.\u001b[0m\u001b[0mset_axis\u001b[0m\u001b[0;34m(\u001b[0m\u001b[0maxis\u001b[0m\u001b[0;34m,\u001b[0m \u001b[0mlabels\u001b[0m\u001b[0;34m)\u001b[0m\u001b[0;34m\u001b[0m\u001b[0;34m\u001b[0m\u001b[0m\n\u001b[0m\u001b[1;32m    767\u001b[0m         \u001b[0mself\u001b[0m\u001b[0;34m.\u001b[0m\u001b[0m_clear_item_cache\u001b[0m\u001b[0;34m(\u001b[0m\u001b[0;34m)\u001b[0m\u001b[0;34m\u001b[0m\u001b[0;34m\u001b[0m\u001b[0m\n\u001b[1;32m    768\u001b[0m \u001b[0;34m\u001b[0m\u001b[0m\n",
      "\u001b[0;32m~/miniconda3/envs/pyseqrna/lib/python3.7/site-packages/pandas/core/internals/managers.py\u001b[0m in \u001b[0;36mset_axis\u001b[0;34m(self, axis, new_labels)\u001b[0m\n\u001b[1;32m    214\u001b[0m     \u001b[0;32mdef\u001b[0m \u001b[0mset_axis\u001b[0m\u001b[0;34m(\u001b[0m\u001b[0mself\u001b[0m\u001b[0;34m,\u001b[0m \u001b[0maxis\u001b[0m\u001b[0;34m:\u001b[0m \u001b[0mint\u001b[0m\u001b[0;34m,\u001b[0m \u001b[0mnew_labels\u001b[0m\u001b[0;34m:\u001b[0m \u001b[0mIndex\u001b[0m\u001b[0;34m)\u001b[0m \u001b[0;34m->\u001b[0m \u001b[0;32mNone\u001b[0m\u001b[0;34m:\u001b[0m\u001b[0;34m\u001b[0m\u001b[0;34m\u001b[0m\u001b[0m\n\u001b[1;32m    215\u001b[0m         \u001b[0;31m# Caller is responsible for ensuring we have an Index object.\u001b[0m\u001b[0;34m\u001b[0m\u001b[0;34m\u001b[0m\u001b[0;34m\u001b[0m\u001b[0m\n\u001b[0;32m--> 216\u001b[0;31m         \u001b[0mself\u001b[0m\u001b[0;34m.\u001b[0m\u001b[0m_validate_set_axis\u001b[0m\u001b[0;34m(\u001b[0m\u001b[0maxis\u001b[0m\u001b[0;34m,\u001b[0m \u001b[0mnew_labels\u001b[0m\u001b[0;34m)\u001b[0m\u001b[0;34m\u001b[0m\u001b[0;34m\u001b[0m\u001b[0m\n\u001b[0m\u001b[1;32m    217\u001b[0m         \u001b[0mself\u001b[0m\u001b[0;34m.\u001b[0m\u001b[0maxes\u001b[0m\u001b[0;34m[\u001b[0m\u001b[0maxis\u001b[0m\u001b[0;34m]\u001b[0m \u001b[0;34m=\u001b[0m \u001b[0mnew_labels\u001b[0m\u001b[0;34m\u001b[0m\u001b[0;34m\u001b[0m\u001b[0m\n\u001b[1;32m    218\u001b[0m \u001b[0;34m\u001b[0m\u001b[0m\n",
      "\u001b[0;32m~/miniconda3/envs/pyseqrna/lib/python3.7/site-packages/pandas/core/internals/base.py\u001b[0m in \u001b[0;36m_validate_set_axis\u001b[0;34m(self, axis, new_labels)\u001b[0m\n\u001b[1;32m     56\u001b[0m         \u001b[0;32melif\u001b[0m \u001b[0mnew_len\u001b[0m \u001b[0;34m!=\u001b[0m \u001b[0mold_len\u001b[0m\u001b[0;34m:\u001b[0m\u001b[0;34m\u001b[0m\u001b[0;34m\u001b[0m\u001b[0m\n\u001b[1;32m     57\u001b[0m             raise ValueError(\n\u001b[0;32m---> 58\u001b[0;31m                 \u001b[0;34mf\"Length mismatch: Expected axis has {old_len} elements, new \"\u001b[0m\u001b[0;34m\u001b[0m\u001b[0;34m\u001b[0m\u001b[0m\n\u001b[0m\u001b[1;32m     59\u001b[0m                 \u001b[0;34mf\"values have {new_len} elements\"\u001b[0m\u001b[0;34m\u001b[0m\u001b[0;34m\u001b[0m\u001b[0m\n\u001b[1;32m     60\u001b[0m             )\n",
      "\u001b[0;31mValueError\u001b[0m: Length mismatch: Expected axis has 0 elements, new values have 20 elements"
     ]
    }
   ],
   "source": [
    "dk =mmg.countMMG(sampleDict=samples,bamDict=outalign,gff=\"pyseqrna/example/data/tair10.gff3\")"
   ]
  },
  {
   "cell_type": "code",
   "execution_count": null,
   "metadata": {},
   "outputs": [],
   "source": [
    "pu.make_directory(\"pySeqRNA_results\")"
   ]
  },
  {
   "cell_type": "code",
   "execution_count": null,
   "metadata": {},
   "outputs": [],
   "source": [
    "\n",
    "a = qt.trim_galoreRun(sampleDict=samples, paired=True, slurm=True)"
   ]
  },
  {
   "cell_type": "code",
   "execution_count": null,
   "metadata": {},
   "outputs": [],
   "source": [
    "aligner = al.STAR_Aligner(genome=\"pyseqrna/example/data/tair10.fasta\", slurm=False)"
   ]
  },
  {
   "cell_type": "markdown",
   "metadata": {},
   "source": []
  },
  {
   "cell_type": "code",
   "execution_count": null,
   "metadata": {},
   "outputs": [],
   "source": [
    "j = aligner.build_index()"
   ]
  },
  {
   "cell_type": "code",
   "execution_count": null,
   "metadata": {},
   "outputs": [],
   "source": [
    "aligner.check_index()"
   ]
  },
  {
   "cell_type": "code",
   "execution_count": null,
   "metadata": {},
   "outputs": [],
   "source": [
    "outalign, job = aligner.run_Alignment(target=samples, pairedEND=True)"
   ]
  },
  {
   "cell_type": "code",
   "execution_count": null,
   "metadata": {},
   "outputs": [],
   "source": [
    "df= ps.align_stats(sampleDict=samples,trimDict=a[0],bamDict=outalign, pairedEND=True)"
   ]
  },
  {
   "cell_type": "code",
   "execution_count": null,
   "metadata": {},
   "outputs": [],
   "source": [
    "df.to_excel(\"pySeqRNA_results/alignment_stats.xlsx\", index=False)"
   ]
  },
  {
   "cell_type": "code",
   "execution_count": null,
   "metadata": {},
   "outputs": [],
   "source": [
    "df"
   ]
  },
  {
   "cell_type": "code",
   "execution_count": null,
   "metadata": {},
   "outputs": [],
   "source": [
    "import matplotlib.pyplot as plt\n",
    "import numpy as np\n",
    "import matplotlib\n",
    "import seaborn as sns"
   ]
  },
  {
   "cell_type": "code",
   "execution_count": null,
   "metadata": {},
   "outputs": [],
   "source": [
    "sample = list(df['Sample'])\n",
    "creads = list(df['Input_reads2x'])\n",
    "iread = list(df['%_Cleaned2x'])\n",
    "tc= list(100-df['%_Cleaned2x'])\n",
    "\n",
    "plt.barh(sample,iread,0.6,label=\"cleaned Reads\", color='skyblue')\n",
    "plt.barh(sample, tc, 0.6,left=iread, label=\"discarded\", color='tomato')\n",
    "plt.margins(y=0.01)\n",
    "plt.xticks(fontsize=15)\n",
    "plt.yticks(fontsize=15)\n",
    "plt.xlabel(\"% Number of reads\", fontsize=18)\n",
    "plt.ylabel(\"Samples\", fontsize=18)\n",
    "plt.legend(['Cleaned', 'Discarded'], bbox_to_anchor=(1.0, 1.0), loc='upper left', fontsize=15)\n",
    "fig = matplotlib.pyplot.gcf()\n",
    "fig.set_size_inches(18.5, 10.5)\n",
    "\n",
    "# plt.legend(frameon=False, fontsize=17)\n",
    "\n"
   ]
  },
  {
   "cell_type": "code",
   "execution_count": null,
   "metadata": {},
   "outputs": [],
   "source": [
    "tc"
   ]
  },
  {
   "cell_type": "code",
   "execution_count": null,
   "metadata": {},
   "outputs": [],
   "source": [
    "a= quants.featureCount(bamDict=outalign, gff=\"pyseqrna/example/data/arabidopsis10.gff\", outDir=\"pySeqRNA_results\", slurm=True)"
   ]
  },
  {
   "cell_type": "code",
   "execution_count": null,
   "metadata": {},
   "outputs": [],
   "source": [
    "counts= pd.read_csv(\"pySeqRNA_results/Counts_final.txt\", sep=\"\\t\")"
   ]
  },
  {
   "cell_type": "code",
   "execution_count": null,
   "metadata": {},
   "outputs": [],
   "source": [
    "counts"
   ]
  },
  {
   "cell_type": "code",
   "execution_count": null,
   "metadata": {},
   "outputs": [],
   "source": [
    "targets= data['targets']\n",
    "comb= data['combinations']"
   ]
  },
  {
   "cell_type": "code",
   "execution_count": null,
   "metadata": {},
   "outputs": [],
   "source": [
    "dd= de.runDESeq2(countDF=counts,targetFile=targets,design='sample', combination=comb)"
   ]
  },
  {
   "cell_type": "code",
   "execution_count": null,
   "metadata": {},
   "outputs": [],
   "source": [
    "import os \n",
    "dd.to_excel(os.path.join(\"pySeqRNA_results\",\"Raw_DEGs_all.xlsx\"), index=False)"
   ]
  },
  {
   "cell_type": "code",
   "execution_count": null,
   "metadata": {},
   "outputs": [],
   "source": [
    "dd= pd.read_excel(\"pySeqRNA_results/Raw_DEGs_all.xlsx\")\n",
    "filtered_DEG = de.degFilter(degDF=dd, CompareList=comb, FDR=0.05, FOLD=1)"
   ]
  },
  {
   "cell_type": "code",
   "execution_count": null,
   "metadata": {},
   "outputs": [],
   "source": [
    "summary= filtered_DEG['summary']"
   ]
  },
  {
   "cell_type": "code",
   "execution_count": null,
   "metadata": {},
   "outputs": [],
   "source": [
    "wd= pd.ExcelWriter(os.path.join(\"pySeqRNA_results\",\"filtered_DEGs.xlsx\"))\n",
    "for key, value in filtered_DEG['filtered'].items():\n",
    "    value.to_excel(wd,sheet_name=key)\n",
    "    wd.save()\n",
    "wd.close()"
   ]
  },
  {
   "cell_type": "code",
   "execution_count": null,
   "metadata": {},
   "outputs": [],
   "source": [
    "pu.getGenes(os.path.join(\"pySeqRNA_results\",\"filtered_DEGs.xlsx\"), combinations=comb)"
   ]
  },
  {
   "cell_type": "code",
   "execution_count": null,
   "metadata": {},
   "outputs": [],
   "source": [
    "from pyseqrna import normalize_counts as nc"
   ]
  },
  {
   "cell_type": "code",
   "execution_count": null,
   "metadata": {},
   "outputs": [],
   "source": [
    "rpkm = nc.Normalization(countFile=\"pySeqRNA_results/Counts_final.txt\", featureFile=\"pyseqrna/example/data/arabidopsis10.gff\")"
   ]
  },
  {
   "cell_type": "code",
   "execution_count": null,
   "metadata": {},
   "outputs": [],
   "source": [
    "rpk = rpkm.meanRatioCount()"
   ]
  },
  {
   "cell_type": "code",
   "execution_count": null,
   "metadata": {},
   "outputs": [],
   "source": [
    "rpk.to_excel(\"pySeqRNA_results/rpkm.xlsx\")"
   ]
  },
  {
   "cell_type": "code",
   "execution_count": null,
   "metadata": {},
   "outputs": [],
   "source": [
    "rcount= pd.read_excel(\"pySeqRNA_results/rpkm.xlsx\")"
   ]
  },
  {
   "cell_type": "code",
   "execution_count": null,
   "metadata": {},
   "outputs": [],
   "source": [
    "rcount"
   ]
  },
  {
   "cell_type": "code",
   "execution_count": null,
   "metadata": {},
   "outputs": [],
   "source": [
    "from pyseqrna import pyseqrna_plots as pp"
   ]
  },
  {
   "cell_type": "code",
   "execution_count": null,
   "metadata": {},
   "outputs": [],
   "source": [
    "heatmap, ax = pp.plotHeatmap(dd,combinations=comb,num=50, type='deg')"
   ]
  },
  {
   "cell_type": "code",
   "execution_count": null,
   "metadata": {},
   "outputs": [],
   "source": [
    "from pyseqrna import gene_ontology as go"
   ]
  },
  {
   "cell_type": "code",
   "execution_count": null,
   "metadata": {},
   "outputs": [],
   "source": [
    "bdata= go.query('athaliana')"
   ]
  },
  {
   "cell_type": "markdown",
   "metadata": {},
   "source": []
  },
  {
   "cell_type": "code",
   "execution_count": null,
   "metadata": {},
   "outputs": [],
   "source": [
    "gdata = go.preprocessBioMart(bdata)"
   ]
  },
  {
   "cell_type": "code",
   "execution_count": null,
   "metadata": {},
   "outputs": [],
   "source": [
    "results = go.enrichGO('athaliana',\"pySeqRNA_results/diff_genes/C1-D6.txt\")"
   ]
  },
  {
   "cell_type": "code",
   "execution_count": null,
   "metadata": {},
   "outputs": [],
   "source": [
    "results"
   ]
  },
  {
   "cell_type": "code",
   "execution_count": null,
   "metadata": {},
   "outputs": [],
   "source": [
    "df=bdata\n",
    "import numpy as np\n",
    "df2 = df[df['GO_ID'].notna()]\n",
    "gg = list(df2['Gene'])\n",
    "x = np.array(gg)\n",
    "\n",
    "bg_count = len(np.unique(x))\n",
    "\n",
    "bg_count\n"
   ]
  },
  {
   "cell_type": "code",
   "execution_count": null,
   "metadata": {},
   "outputs": [],
   "source": [
    "cd= pd.read_excel(\"pySeqRNA_results.1/M1-V6_deg.xlsx\")"
   ]
  },
  {
   "cell_type": "code",
   "execution_count": null,
   "metadata": {},
   "outputs": [],
   "source": [
    "gdata"
   ]
  },
  {
   "cell_type": "code",
   "execution_count": null,
   "metadata": {},
   "outputs": [],
   "source": [
    "from pyseqrna import pathway\n"
   ]
  },
  {
   "cell_type": "code",
   "execution_count": null,
   "metadata": {},
   "outputs": [],
   "source": [
    "dk = pathway.enrichKEGG(file=\"pySeqRNA_results/diff_genes/C1-D6.txt\", species='ath')"
   ]
  },
  {
   "cell_type": "code",
   "execution_count": null,
   "metadata": {},
   "outputs": [],
   "source": []
  }
 ],
 "metadata": {
  "interpreter": {
   "hash": "68add8a62ec0494f503bfd87f490205670fb58cdd6e788ec5ca57569f6a52452"
  },
  "kernelspec": {
   "display_name": "Python 3.8.8 64-bit (conda)",
   "name": "python3"
  },
  "language_info": {
   "codemirror_mode": {
    "name": "ipython",
    "version": 3
   },
   "file_extension": ".py",
   "mimetype": "text/x-python",
   "name": "python",
   "nbconvert_exporter": "python",
   "pygments_lexer": "ipython3",
   "version": "3.8.8"
  },
  "orig_nbformat": 4
 },
 "nbformat": 4,
 "nbformat_minor": 2
}
