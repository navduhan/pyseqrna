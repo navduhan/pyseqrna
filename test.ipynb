{
 "cells": [
  {
   "cell_type": "markdown",
   "metadata": {},
   "source": [
    "# Arabidopsis transcriptome study under high light stress"
   ]
  },
  {
   "cell_type": "code",
   "execution_count": 1,
   "metadata": {},
   "outputs": [],
   "source": [
    "# Import modules from pyseqrna package\n",
    "\n",
    "from pyseqrna import pyseqrna_utils as pu\n",
    "from pyseqrna import quality_check as qc\n",
    "from pyseqrna import quality_trimming as qt\n",
    "from pyseqrna import  aligners as al\n",
    "from pyseqrna import pyseqrna_stats as ps\n",
    "from pyseqrna import quantification as quants\n",
    "from pyseqrna import differential_expression as de\n",
    "from pyseqrna import pyseqrna_plots as pp\n",
    "from pyseqrna import multimapped_groups as mmg\n",
    "import pandas as pd\n",
    "import dill\n",
    "from waiting import wait"
   ]
  },
  {
   "cell_type": "code",
   "execution_count": 2,
   "metadata": {},
   "outputs": [
    {
     "name": "stderr",
     "output_type": "stream",
     "text": [
      "[11:41:20]  <ipython-input-2-09f797b7f757> :: INFO : Analysis started\n"
     ]
    }
   ],
   "source": [
    "# initialize the logger\n",
    "from pyseqrna.pyseqrna_utils import PyseqrnaLogger\n",
    "\n",
    "log = PyseqrnaLogger(mode='w', log='pp')\n",
    "\n",
    "log.info(\"Analysis started\")"
   ]
  },
  {
   "cell_type": "code",
   "execution_count": 15,
   "metadata": {},
   "outputs": [
    {
     "name": "stderr",
     "output_type": "stream",
     "text": [
      "[10:54:23]  pyseqrna_utils :: INFO : Reading input samples File \n",
      "[10:54:23]  pyseqrna_utils :: INFO : Input file /home/naveen/Downloads/arabidopsis/input_sample.txt read succesfully\n",
      "[10:54:23]  pyseqrna_utils :: INFO : Combination created succesfully from /home/naveen/Downloads/arabidopsis/input_sample.txt\n",
      "[10:54:23]  pyseqrna_utils :: INFO : targets dataframe for differenatial created succesfully from /home/naveen/Downloads/arabidopsis/input_sample.txt\n"
     ]
    }
   ],
   "source": [
    "# Read input samples form input file\n",
    "data = pu.read_input_file(\"/home/naveen/Downloads/arabidopsis/input_sample.txt\", \"/home/naveen/Downloads/arabidopsis/\" )\n",
    "samples= data['samples']"
   ]
  },
  {
   "cell_type": "code",
   "execution_count": 18,
   "metadata": {},
   "outputs": [
    {
     "data": {
      "text/plain": [
       "{'GL0.5h1': ['GL0.5h1',\n",
       "  'GL0.5',\n",
       "  '/home/naveen/Downloads/arabidopsis/SRR6767632.fastq.gz'],\n",
       " 'GL0.5h2': ['GL0.5h2',\n",
       "  'GL0.5',\n",
       "  '/home/naveen/Downloads/arabidopsis/SRR6767633.fastq.gz'],\n",
       " 'GL6h1': ['GL6h1',\n",
       "  'GL6',\n",
       "  '/home/naveen/Downloads/arabidopsis/SRR6767634.fastq.gz'],\n",
       " 'GL6h2': ['GL6h2',\n",
       "  'GL6',\n",
       "  '/home/naveen/Downloads/arabidopsis/SRR6767635.fastq.gz'],\n",
       " 'GL12h1': ['GL12h1',\n",
       "  'GL12',\n",
       "  '/home/naveen/Downloads/arabidopsis/SRR6767636.fastq.gz'],\n",
       " 'GL12h2': ['GL12h2',\n",
       "  'GL12',\n",
       "  '/home/naveen/Downloads/arabidopsis/SRR6767637.fastq.gz'],\n",
       " 'GL24h1': ['GL24h1',\n",
       "  'GL24',\n",
       "  '/home/naveen/Downloads/arabidopsis/SRR6767639.fastq.gz'],\n",
       " 'GL24h2': ['GL24h2',\n",
       "  'GL24',\n",
       "  '/home/naveen/Downloads/arabidopsis/SRR6767640.fastq.gz'],\n",
       " 'GL48h1': ['GL48h1',\n",
       "  'GL48',\n",
       "  '/home/naveen/Downloads/arabidopsis/SRR6767642.fastq.gz'],\n",
       " 'GL48h2': ['GL48h2',\n",
       "  'GL48',\n",
       "  '/home/naveen/Downloads/arabidopsis/SRR6767643.fastq.gz'],\n",
       " 'GL72h1': ['GL72h1',\n",
       "  'GL72',\n",
       "  '/home/naveen/Downloads/arabidopsis/SRR6767644.fastq.gz'],\n",
       " 'GL72h2': ['GL72h2',\n",
       "  'GL72',\n",
       "  '/home/naveen/Downloads/arabidopsis/SRR6767645.fastq.gz'],\n",
       " 'HL0.5h1': ['HL0.5h1',\n",
       "  'HL0.5',\n",
       "  '/home/naveen/Downloads/arabidopsis/SRR6767646.fastq.gz'],\n",
       " 'HL0.5h2': ['HL0.5h2',\n",
       "  'HL0.5',\n",
       "  '/home/naveen/Downloads/arabidopsis/SRR6767647.fastq.gz'],\n",
       " 'HL6h1': ['HL6h1',\n",
       "  'HL6',\n",
       "  '/home/naveen/Downloads/arabidopsis/SRR6767648.fastq.gz'],\n",
       " 'HL6h2': ['HL6h2',\n",
       "  'HL6',\n",
       "  '/home/naveen/Downloads/arabidopsis/SRR6767649.fastq.gz'],\n",
       " 'HL12h1': ['HL12h1',\n",
       "  'HL12',\n",
       "  '/home/naveen/Downloads/arabidopsis/SRR6767650.fastq.gz'],\n",
       " 'HL12h2': ['HL12h2',\n",
       "  'HL12',\n",
       "  '/home/naveen/Downloads/arabidopsis/SRR6767651.fastq.gz'],\n",
       " 'HL24h1': ['HL24h1',\n",
       "  'HL24',\n",
       "  '/home/naveen/Downloads/arabidopsis/SRR6767652.fastq.gz'],\n",
       " 'HL24h2': ['HL24h2',\n",
       "  'HL24',\n",
       "  '/home/naveen/Downloads/arabidopsis/SRR6767653.fastq.gz'],\n",
       " 'HL48h1': ['HL48h1',\n",
       "  'HL48',\n",
       "  '/home/naveen/Downloads/arabidopsis/SRR6767654.fastq.gz'],\n",
       " 'HL48h2': ['HL48h2',\n",
       "  'HL48',\n",
       "  '/home/naveen/Downloads/arabidopsis/SRR6767655.fastq.gz'],\n",
       " 'HL72h1': ['HL72h1',\n",
       "  'HL72',\n",
       "  '/home/naveen/Downloads/arabidopsis/SRR6767656.fastq.gz'],\n",
       " 'HL72h2': ['HL72h2',\n",
       "  'HL72',\n",
       "  '/home/naveen/Downloads/arabidopsis/SRR6767657.fastq.gz'],\n",
       " 'R14h1': ['R14h1',\n",
       "  'R14',\n",
       "  '/home/naveen/Downloads/arabidopsis/SRR6767658.fastq.gz'],\n",
       " 'R14h2': ['R14h2',\n",
       "  'R14',\n",
       "  '/home/naveen/Downloads/arabidopsis/SRR6767659.fastq.gz']}"
      ]
     },
     "execution_count": 18,
     "metadata": {},
     "output_type": "execute_result"
    }
   ],
   "source": [
    "samples"
   ]
  },
  {
   "cell_type": "code",
   "execution_count": null,
   "metadata": {},
   "outputs": [],
   "source": [
    "outdir=\"pySeqRNA_results\""
   ]
  },
  {
   "cell_type": "code",
   "execution_count": null,
   "metadata": {},
   "outputs": [],
   "source": [
    "import glob \n",
    "\n",
    "outa = glob.glob(\"pySeqRNA_results/star_results.1/*out.bam\")\n",
    "\n"
   ]
  },
  {
   "cell_type": "code",
   "execution_count": 19,
   "metadata": {},
   "outputs": [],
   "source": [
    "outalign={}\n",
    "for s in samples:\n",
    "    for o in outa:\n",
    "        if s in o:\n",
    "            outalign[s]=[samples[s][0], samples[s][1],o]\n",
    "        "
   ]
  },
  {
   "cell_type": "code",
   "execution_count": 21,
   "metadata": {},
   "outputs": [
    {
     "name": "stderr",
     "output_type": "stream",
     "text": [
      "/home/naveen/SOFTWARE/miniconda3/envs/pySeqRNA/lib/python3.8/site-packages/IPython/core/interactiveshell.py:3437: DtypeWarning: Columns (0) have mixed types.Specify dtype option on import or set low_memory=False.\n",
      "  exec(code_obj, self.user_global_ns, self.user_ns)\n"
     ]
    },
    {
     "ename": "ValueError",
     "evalue": "Length mismatch: Expected axis has 0 elements, new values have 1 elements",
     "output_type": "error",
     "traceback": [
      "\u001b[0;31m---------------------------------------------------------------------------\u001b[0m",
      "\u001b[0;31mValueError\u001b[0m                                Traceback (most recent call last)",
      "\u001b[0;32m<ipython-input-21-30bae97f31ce>\u001b[0m in \u001b[0;36m<module>\u001b[0;34m\u001b[0m\n\u001b[0;32m----> 1\u001b[0;31m \u001b[0mmmmgs\u001b[0m \u001b[0;34m=\u001b[0m \u001b[0mmmg\u001b[0m\u001b[0;34m.\u001b[0m\u001b[0mcountMMG\u001b[0m\u001b[0;34m(\u001b[0m\u001b[0msampleDict\u001b[0m\u001b[0;34m=\u001b[0m\u001b[0msamples\u001b[0m\u001b[0;34m,\u001b[0m \u001b[0mbamDict\u001b[0m\u001b[0;34m=\u001b[0m\u001b[0moutalign\u001b[0m\u001b[0;34m,\u001b[0m \u001b[0mgff\u001b[0m\u001b[0;34m=\u001b[0m\u001b[0;34m\"/home/naveen/Downloads/arabidopsis/Arabidopsis_thaliana.TAIR10.51.gff3\"\u001b[0m\u001b[0;34m)\u001b[0m\u001b[0;34m\u001b[0m\u001b[0;34m\u001b[0m\u001b[0m\n\u001b[0m",
      "\u001b[0;32m~/Documents/Phd_work/ngs_data/pyseqrna/pyseqrna/multimapped_groups.py\u001b[0m in \u001b[0;36mcountMMG\u001b[0;34m(sampleDict, bamDict, gff, feature, minCount, percentSample)\u001b[0m\n\u001b[1;32m    135\u001b[0m \u001b[0;34m\u001b[0m\u001b[0m\n\u001b[1;32m    136\u001b[0m \u001b[0;34m\u001b[0m\u001b[0m\n\u001b[0;32m--> 137\u001b[0;31m         \u001b[0mdf\u001b[0m\u001b[0;34m.\u001b[0m\u001b[0mcolumns\u001b[0m\u001b[0;34m=\u001b[0m\u001b[0;34m[\u001b[0m\u001b[0mb\u001b[0m\u001b[0;34m]\u001b[0m\u001b[0;34m\u001b[0m\u001b[0;34m\u001b[0m\u001b[0m\n\u001b[0m\u001b[1;32m    138\u001b[0m         \u001b[0mdf\u001b[0m\u001b[0;34m=\u001b[0m \u001b[0mpd\u001b[0m\u001b[0;34m.\u001b[0m\u001b[0mDataFrame\u001b[0m\u001b[0;34m(\u001b[0m\u001b[0mdf\u001b[0m\u001b[0;34m[\u001b[0m\u001b[0mb\u001b[0m\u001b[0;34m]\u001b[0m\u001b[0;34m.\u001b[0m\u001b[0mvalue_counts\u001b[0m\u001b[0;34m(\u001b[0m\u001b[0mdropna\u001b[0m\u001b[0;34m=\u001b[0m\u001b[0;32mFalse\u001b[0m\u001b[0;34m)\u001b[0m\u001b[0;34m)\u001b[0m\u001b[0;34m\u001b[0m\u001b[0;34m\u001b[0m\u001b[0m\n\u001b[1;32m    139\u001b[0m         \u001b[0mdf\u001b[0m\u001b[0;34m.\u001b[0m\u001b[0mreset_index\u001b[0m\u001b[0;34m(\u001b[0m\u001b[0mlevel\u001b[0m\u001b[0;34m=\u001b[0m\u001b[0;36m0\u001b[0m\u001b[0;34m,\u001b[0m \u001b[0minplace\u001b[0m\u001b[0;34m=\u001b[0m\u001b[0;32mTrue\u001b[0m\u001b[0;34m)\u001b[0m\u001b[0;34m\u001b[0m\u001b[0;34m\u001b[0m\u001b[0m\n",
      "\u001b[0;32m~/SOFTWARE/miniconda3/envs/pySeqRNA/lib/python3.8/site-packages/pandas/core/generic.py\u001b[0m in \u001b[0;36m__setattr__\u001b[0;34m(self, name, value)\u001b[0m\n\u001b[1;32m   5476\u001b[0m         \u001b[0;32mtry\u001b[0m\u001b[0;34m:\u001b[0m\u001b[0;34m\u001b[0m\u001b[0;34m\u001b[0m\u001b[0m\n\u001b[1;32m   5477\u001b[0m             \u001b[0mobject\u001b[0m\u001b[0;34m.\u001b[0m\u001b[0m__getattribute__\u001b[0m\u001b[0;34m(\u001b[0m\u001b[0mself\u001b[0m\u001b[0;34m,\u001b[0m \u001b[0mname\u001b[0m\u001b[0;34m)\u001b[0m\u001b[0;34m\u001b[0m\u001b[0;34m\u001b[0m\u001b[0m\n\u001b[0;32m-> 5478\u001b[0;31m             \u001b[0;32mreturn\u001b[0m \u001b[0mobject\u001b[0m\u001b[0;34m.\u001b[0m\u001b[0m__setattr__\u001b[0m\u001b[0;34m(\u001b[0m\u001b[0mself\u001b[0m\u001b[0;34m,\u001b[0m \u001b[0mname\u001b[0m\u001b[0;34m,\u001b[0m \u001b[0mvalue\u001b[0m\u001b[0;34m)\u001b[0m\u001b[0;34m\u001b[0m\u001b[0;34m\u001b[0m\u001b[0m\n\u001b[0m\u001b[1;32m   5479\u001b[0m         \u001b[0;32mexcept\u001b[0m \u001b[0mAttributeError\u001b[0m\u001b[0;34m:\u001b[0m\u001b[0;34m\u001b[0m\u001b[0;34m\u001b[0m\u001b[0m\n\u001b[1;32m   5480\u001b[0m             \u001b[0;32mpass\u001b[0m\u001b[0;34m\u001b[0m\u001b[0;34m\u001b[0m\u001b[0m\n",
      "\u001b[0;32mpandas/_libs/properties.pyx\u001b[0m in \u001b[0;36mpandas._libs.properties.AxisProperty.__set__\u001b[0;34m()\u001b[0m\n",
      "\u001b[0;32m~/SOFTWARE/miniconda3/envs/pySeqRNA/lib/python3.8/site-packages/pandas/core/generic.py\u001b[0m in \u001b[0;36m_set_axis\u001b[0;34m(self, axis, labels)\u001b[0m\n\u001b[1;32m    668\u001b[0m     \u001b[0;32mdef\u001b[0m \u001b[0m_set_axis\u001b[0m\u001b[0;34m(\u001b[0m\u001b[0mself\u001b[0m\u001b[0;34m,\u001b[0m \u001b[0maxis\u001b[0m\u001b[0;34m:\u001b[0m \u001b[0mint\u001b[0m\u001b[0;34m,\u001b[0m \u001b[0mlabels\u001b[0m\u001b[0;34m:\u001b[0m \u001b[0mIndex\u001b[0m\u001b[0;34m)\u001b[0m \u001b[0;34m->\u001b[0m \u001b[0;32mNone\u001b[0m\u001b[0;34m:\u001b[0m\u001b[0;34m\u001b[0m\u001b[0;34m\u001b[0m\u001b[0m\n\u001b[1;32m    669\u001b[0m         \u001b[0mlabels\u001b[0m \u001b[0;34m=\u001b[0m \u001b[0mensure_index\u001b[0m\u001b[0;34m(\u001b[0m\u001b[0mlabels\u001b[0m\u001b[0;34m)\u001b[0m\u001b[0;34m\u001b[0m\u001b[0;34m\u001b[0m\u001b[0m\n\u001b[0;32m--> 670\u001b[0;31m         \u001b[0mself\u001b[0m\u001b[0;34m.\u001b[0m\u001b[0m_mgr\u001b[0m\u001b[0;34m.\u001b[0m\u001b[0mset_axis\u001b[0m\u001b[0;34m(\u001b[0m\u001b[0maxis\u001b[0m\u001b[0;34m,\u001b[0m \u001b[0mlabels\u001b[0m\u001b[0;34m)\u001b[0m\u001b[0;34m\u001b[0m\u001b[0;34m\u001b[0m\u001b[0m\n\u001b[0m\u001b[1;32m    671\u001b[0m         \u001b[0mself\u001b[0m\u001b[0;34m.\u001b[0m\u001b[0m_clear_item_cache\u001b[0m\u001b[0;34m(\u001b[0m\u001b[0;34m)\u001b[0m\u001b[0;34m\u001b[0m\u001b[0;34m\u001b[0m\u001b[0m\n\u001b[1;32m    672\u001b[0m \u001b[0;34m\u001b[0m\u001b[0m\n",
      "\u001b[0;32m~/SOFTWARE/miniconda3/envs/pySeqRNA/lib/python3.8/site-packages/pandas/core/internals/managers.py\u001b[0m in \u001b[0;36mset_axis\u001b[0;34m(self, axis, new_labels)\u001b[0m\n\u001b[1;32m    218\u001b[0m \u001b[0;34m\u001b[0m\u001b[0m\n\u001b[1;32m    219\u001b[0m         \u001b[0;32mif\u001b[0m \u001b[0mnew_len\u001b[0m \u001b[0;34m!=\u001b[0m \u001b[0mold_len\u001b[0m\u001b[0;34m:\u001b[0m\u001b[0;34m\u001b[0m\u001b[0;34m\u001b[0m\u001b[0m\n\u001b[0;32m--> 220\u001b[0;31m             raise ValueError(\n\u001b[0m\u001b[1;32m    221\u001b[0m                 \u001b[0;34mf\"Length mismatch: Expected axis has {old_len} elements, new \"\u001b[0m\u001b[0;34m\u001b[0m\u001b[0;34m\u001b[0m\u001b[0m\n\u001b[1;32m    222\u001b[0m                 \u001b[0;34mf\"values have {new_len} elements\"\u001b[0m\u001b[0;34m\u001b[0m\u001b[0;34m\u001b[0m\u001b[0m\n",
      "\u001b[0;31mValueError\u001b[0m: Length mismatch: Expected axis has 0 elements, new values have 1 elements"
     ]
    }
   ],
   "source": [
    "mmmgs = mmg.countMMG(sampleDict=samples, bamDict=outalign, gff=\"/home/naveen/Downloads/arabidopsis/Arabidopsis_thaliana.TAIR10.51.gff3\")"
   ]
  },
  {
   "cell_type": "code",
   "execution_count": null,
   "metadata": {},
   "outputs": [],
   "source": [
    "# initial quality check\n",
    "outfastqc, jobfastqc = qc.fastqcRun(sampleDict=samples, slurm=True,cpu=30,mem=200, outDir=outdir)\n",
    "\n",
    "for job in jobfastqc:\n",
    "    wait(lambda: pu.check_status(job), waiting_for=\"quality to finish\")\n",
    "    log.info(f\"Quality check completed for job {job}\")\n",
    "\n",
    "log.info(\"Read quality check completed succesfully\")\n",
    "\n"
   ]
  },
  {
   "cell_type": "code",
   "execution_count": null,
   "metadata": {},
   "outputs": [],
   "source": [
    "# Run trimming using trimming module\n",
    "outtrim, jobtrim= qt.trim_galoreRun(sampleDict=samples,  slurm=True, cpu=40,mem=200)\n",
    "\n",
    "for job in jobtrim:\n",
    "    wait(lambda: pu.check_status(job), waiting_for=\"trimming to finish\")\n",
    "    log.info(f\"Trimming completed for job {job}\")\n",
    "\n",
    "log.info(\"Read trimming completed succesfully\")"
   ]
  },
  {
   "cell_type": "code",
   "execution_count": null,
   "metadata": {},
   "outputs": [],
   "source": [
    "aligner = al.STAR_Aligner(genome=\"/home/naveen/Downloads/arabidopsis/Arabidopsis_thaliana.TAIR10.dna.toplevel.fa\", slurm=True, outDir=outdir)"
   ]
  },
  {
   "cell_type": "markdown",
   "metadata": {},
   "source": []
  },
  {
   "cell_type": "code",
   "execution_count": null,
   "metadata": {},
   "outputs": [],
   "source": [
    "job = aligner.build_index()\n",
    "wait(lambda: pu.check_status(job), waiting_for=\"alignment to finish\")\n",
    "log.info(f\"Indexing completed for job {job}\")\n",
    "log.info(\"Genome indexing completed succesfully\")"
   ]
  },
  {
   "cell_type": "code",
   "execution_count": null,
   "metadata": {},
   "outputs": [],
   "source": [
    "aligner.check_index()"
   ]
  },
  {
   "cell_type": "code",
   "execution_count": null,
   "metadata": {},
   "outputs": [],
   "source": [
    "outalign, jobalign = aligner.run_Alignment(target=outtrim, cpu=20, mem=200)\n",
    "\n",
    "for job in jobalign:\n",
    "    wait(lambda: pu.check_status(job), waiting_for=\"alignment to finish\")\n",
    "    log.info(f\"Alignment completed for job {job}\")\n",
    "log.info(\"Read alignment completed succesfully\")"
   ]
  },
  {
   "cell_type": "code",
   "execution_count": null,
   "metadata": {},
   "outputs": [],
   "source": [
    "df= ps.align_stats(sampleDict=samples,trimDict=outtrim,bamDict=outalign)"
   ]
  },
  {
   "cell_type": "code",
   "execution_count": null,
   "metadata": {},
   "outputs": [],
   "source": [
    "df.to_excel(outdir+\"/alignment_stats.xlsx\", index=False)"
   ]
  },
  {
   "cell_type": "code",
   "execution_count": null,
   "metadata": {},
   "outputs": [],
   "source": [
    "a= quants.featureCount(bamDict=outalign, gff=\"/home/naveen/Downloads/arabidopsis/Arabidopsis_thaliana.TAIR10.51.gff3\", outDir=outdir)"
   ]
  },
  {
   "cell_type": "code",
   "execution_count": 16,
   "metadata": {},
   "outputs": [],
   "source": [
    "counts= pd.read_csv(outdir+\"/Counts_final.txt\", sep=\"\\t\")"
   ]
  },
  {
   "cell_type": "code",
   "execution_count": 17,
   "metadata": {},
   "outputs": [],
   "source": [
    "targets= data['targets']\n",
    "comb= data['combinations']"
   ]
  },
  {
   "cell_type": "code",
   "execution_count": 18,
   "metadata": {},
   "outputs": [],
   "source": [
    "comb = ['GL0.5-HL0.5','GL6-HL6','GL6-HL12','GL48-HL48','GL72-HL72','R14-HL72', 'R14-GL72']"
   ]
  },
  {
   "cell_type": "code",
   "execution_count": 19,
   "metadata": {},
   "outputs": [],
   "source": [
    "dd= de.runDESeq2(countDF=counts,targetFile=targets,design='sample', subset=False, combination=comb)"
   ]
  },
  {
   "cell_type": "code",
   "execution_count": null,
   "metadata": {},
   "outputs": [],
   "source": [
    "dd= de.run_edgeR(countDF=counts,targetFile=targets, subset=False, combination=comb)"
   ]
  },
  {
   "cell_type": "code",
   "execution_count": null,
   "metadata": {},
   "outputs": [],
   "source": [
    "import os \n",
    "dd.to_excel(os.path.join(outdir,\"Raw_DEGs_all_edgeR.xlsx\"), index=False)"
   ]
  },
  {
   "cell_type": "code",
   "execution_count": 20,
   "metadata": {},
   "outputs": [
    {
     "data": {
      "image/png": "[encoded data removed]",
      "text/plain": [
       "<Figure size 432x288 with 1 Axes>"
      ]
     },
     "metadata": {
      "needs_background": "light"
     },
     "output_type": "display_data"
    }
   ],
   "source": [
    "# dd= pd.read_excel(outdir+\"/Raw_DEGs_all_edgeR.xlsx\")\n",
    "filtered_DEG = de.degFilter(degDF=dd, CompareList=comb, FDR=0.05, FOLD=2)"
   ]
  },
  {
   "cell_type": "code",
   "execution_count": 21,
   "metadata": {},
   "outputs": [
    {
     "data": {
      "text/html": [
       "<div>\n",
       "<style scoped>\n",
       "    .dataframe tbody tr th:only-of-type {\n",
       "        vertical-align: middle;\n",
       "    }\n",
       "\n",
       "    .dataframe tbody tr th {\n",
       "        vertical-align: top;\n",
       "    }\n",
       "\n",
       "    .dataframe thead th {\n",
       "        text-align: right;\n",
       "    }\n",
       "</style>\n",
       "<table border=\"1\" class=\"dataframe\">\n",
       "  <thead>\n",
       "    <tr style=\"text-align: right;\">\n",
       "      <th></th>\n",
       "      <th>Comparisons</th>\n",
       "      <th>Total_DEGs</th>\n",
       "      <th>Up_DEGs</th>\n",
       "      <th>Down_DEGs</th>\n",
       "    </tr>\n",
       "  </thead>\n",
       "  <tbody>\n",
       "    <tr>\n",
       "      <th>0</th>\n",
       "      <td>GL0.5-HL0.5</td>\n",
       "      <td>1173</td>\n",
       "      <td>267</td>\n",
       "      <td>906</td>\n",
       "    </tr>\n",
       "    <tr>\n",
       "      <th>1</th>\n",
       "      <td>GL6-HL6</td>\n",
       "      <td>1584</td>\n",
       "      <td>583</td>\n",
       "      <td>1001</td>\n",
       "    </tr>\n",
       "    <tr>\n",
       "      <th>2</th>\n",
       "      <td>GL6-HL12</td>\n",
       "      <td>2170</td>\n",
       "      <td>878</td>\n",
       "      <td>1292</td>\n",
       "    </tr>\n",
       "    <tr>\n",
       "      <th>3</th>\n",
       "      <td>GL48-HL48</td>\n",
       "      <td>2408</td>\n",
       "      <td>1344</td>\n",
       "      <td>1064</td>\n",
       "    </tr>\n",
       "    <tr>\n",
       "      <th>4</th>\n",
       "      <td>GL72-HL72</td>\n",
       "      <td>2633</td>\n",
       "      <td>1545</td>\n",
       "      <td>1088</td>\n",
       "    </tr>\n",
       "    <tr>\n",
       "      <th>5</th>\n",
       "      <td>R14-HL72</td>\n",
       "      <td>1887</td>\n",
       "      <td>956</td>\n",
       "      <td>931</td>\n",
       "    </tr>\n",
       "    <tr>\n",
       "      <th>6</th>\n",
       "      <td>R14-GL72</td>\n",
       "      <td>456</td>\n",
       "      <td>160</td>\n",
       "      <td>296</td>\n",
       "    </tr>\n",
       "  </tbody>\n",
       "</table>\n",
       "</div>"
      ],
      "text/plain": [
       "   Comparisons  Total_DEGs  Up_DEGs  Down_DEGs\n",
       "0  GL0.5-HL0.5        1173      267        906\n",
       "1      GL6-HL6        1584      583       1001\n",
       "2     GL6-HL12        2170      878       1292\n",
       "3    GL48-HL48        2408     1344       1064\n",
       "4    GL72-HL72        2633     1545       1088\n",
       "5     R14-HL72        1887      956        931\n",
       "6     R14-GL72         456      160        296"
      ]
     },
     "execution_count": 21,
     "metadata": {},
     "output_type": "execute_result"
    }
   ],
   "source": [
    "summary= filtered_DEG['summary']\n",
    "summary"
   ]
  },
  {
   "cell_type": "code",
   "execution_count": 22,
   "metadata": {},
   "outputs": [
    {
     "data": {
      "text/plain": [
       "dict_keys(['summary', 'filtered', 'filteredup', 'filtereddown', 'plot'])"
      ]
     },
     "execution_count": 22,
     "metadata": {},
     "output_type": "execute_result"
    }
   ],
   "source": [
    "filtered_DEG.keys()"
   ]
  },
  {
   "cell_type": "code",
   "execution_count": null,
   "metadata": {},
   "outputs": [],
   "source": [
    "summary.to_excel(outdir+\"/DEG_summary.xlsx\", index=False)"
   ]
  },
  {
   "cell_type": "code",
   "execution_count": 23,
   "metadata": {},
   "outputs": [],
   "source": [
    "wd= pd.ExcelWriter(os.path.join(outdir,\"filtered_down_DEGs.xlsx\"))\n",
    "for key, value in filtered_DEG['filtereddown'].items():\n",
    "    value.to_excel(wd,sheet_name=key)\n",
    "    wd.save()\n",
    "wd.close()"
   ]
  },
  {
   "cell_type": "markdown",
   "metadata": {},
   "source": []
  },
  {
   "cell_type": "code",
   "execution_count": null,
   "metadata": {},
   "outputs": [],
   "source": [
    "pu.getGenes(os.path.join(outdir,\"filtered_DEGs.xlsx\"), combinations=comb)"
   ]
  },
  {
   "cell_type": "code",
   "execution_count": 2,
   "metadata": {},
   "outputs": [],
   "source": [
    "outdir=\"pySeqRNA_results\""
   ]
  },
  {
   "cell_type": "code",
   "execution_count": 3,
   "metadata": {},
   "outputs": [],
   "source": [
    "from pyseqrna import normalize_counts as nc"
   ]
  },
  {
   "cell_type": "code",
   "execution_count": 4,
   "metadata": {},
   "outputs": [],
   "source": [
    "rpkm = nc.Normalization(countFile=outdir+\"/Counts_final.txt\", featureFile=\"/home/naveen/Downloads/arabidopsis/Arabidopsis_thaliana.TAIR10.51.gff3\")"
   ]
  },
  {
   "cell_type": "code",
   "execution_count": 10,
   "metadata": {},
   "outputs": [
    {
     "name": "stderr",
     "output_type": "stream",
     "text": [
      "/home/naveen/SOFTWARE/miniconda3/envs/pySeqRNA/lib/python3.8/site-packages/IPython/core/interactiveshell.py:3437: DtypeWarning: Columns (0) have mixed types.Specify dtype option on import or set low_memory=False.\n",
      "  exec(code_obj, self.user_global_ns, self.user_ns)\n",
      "/home/naveen/SOFTWARE/miniconda3/envs/pySeqRNA/lib/python3.8/site-packages/numpy/core/_asarray.py:102: VisibleDeprecationWarning: Creating an ndarray from ragged nested sequences (which is a list-or-tuple of lists-or-tuples-or ndarrays with different lengths or shapes) is deprecated. If you meant to do this, you must specify 'dtype=object' when creating the ndarray.\n",
      "  return array(a, dtype, copy=False, order=order)\n",
      "/home/naveen/SOFTWARE/miniconda3/envs/pySeqRNA/lib/python3.8/site-packages/numpy/core/_asarray.py:102: VisibleDeprecationWarning: Creating an ndarray from ragged nested sequences (which is a list-or-tuple of lists-or-tuples-or ndarrays with different lengths or shapes) is deprecated. If you meant to do this, you must specify 'dtype=object' when creating the ndarray.\n",
      "  return array(a, dtype, copy=False, order=order)\n"
     ]
    },
    {
     "data": {
      "image/png": "[encoded data removed]",
      "text/plain": [
       "<Figure size 1440x720 with 1 Axes>"
      ]
     },
     "metadata": {
      "needs_background": "light"
     },
     "output_type": "display_data"
    }
   ],
   "source": [
    "rpk = rpkm.RPKM()"
   ]
  },
  {
   "cell_type": "code",
   "execution_count": 11,
   "metadata": {},
   "outputs": [],
   "source": [
    "rpk[0].to_excel(outdir+\"/RPKM.xlsx\", index=False)"
   ]
  },
  {
   "cell_type": "code",
   "execution_count": null,
   "metadata": {},
   "outputs": [],
   "source": [
    "\n",
    "rpk[1].savefig(\"cpm.png\",bbbox_anchor='tight', dpi=300)"
   ]
  },
  {
   "cell_type": "code",
   "execution_count": null,
   "metadata": {},
   "outputs": [],
   "source": [
    "import seaborn as sns\n",
    "import numpy as np\n",
    "import matplotlib.pyplot as plt\n",
    "import scipy.cluster.hierarchy as shc"
   ]
  },
  {
   "cell_type": "code",
   "execution_count": null,
   "metadata": {},
   "outputs": [],
   "source": [
    "# a= np.log(rpk)"
   ]
  },
  {
   "cell_type": "code",
   "execution_count": null,
   "metadata": {},
   "outputs": [],
   "source": [
    "r =rpk.corr()"
   ]
  },
  {
   "cell_type": "code",
   "execution_count": null,
   "metadata": {},
   "outputs": [],
   "source": []
  },
  {
   "cell_type": "code",
   "execution_count": null,
   "metadata": {},
   "outputs": [],
   "source": [
    "linked = shc.linkage(r, 'ward')\n"
   ]
  },
  {
   "cell_type": "code",
   "execution_count": null,
   "metadata": {},
   "outputs": [],
   "source": [
    "R = shc.dendrogram(\n",
    "                linked,\n",
    "                truncate_mode='lastp',  # show only the last p merged clusters\n",
    "                p=len(r.columns),  # show only the last p merged clusters\n",
    "                no_plot=True,\n",
    "                )"
   ]
  },
  {
   "cell_type": "code",
   "execution_count": null,
   "metadata": {},
   "outputs": [],
   "source": [
    "temp = {R[\"leaves\"][ii]: r.columns[ii] for ii in range(len(R[\"leaves\"]))}\n",
    "def llf(xx):\n",
    "    return \"{}\".format(temp[xx])"
   ]
  },
  {
   "cell_type": "code",
   "execution_count": null,
   "metadata": {},
   "outputs": [],
   "source": [
    "shc.dendrogram(\n",
    "            linked,\n",
    "            truncate_mode='lastp',  # show only the last p merged clusters\n",
    "            p=len(r.columns),  # show only the last p merged clusters\n",
    "            leaf_label_func=llf,\n",
    "            orientation='left',\n",
    "           \n",
    "            leaf_font_size=8.,\n",
    "            show_contracted=True,  # to get a distribution impression in truncated branches\n",
    "            )\n",
    "ax = plt.gca()\n",
    "\n",
    "\n",
    "ax.spines['top'].set_visible(False)\n",
    "ax.spines['right'].set_visible(False)\n",
    "ax.spines['left'].set_visible(False)\n",
    "ax.spines['bottom'].set_visible(False)\n",
    "for xlabel_i in ax.get_xticklabels():\n",
    "    xlabel_i.set_visible(False)\n",
    "    xlabel_i.set_fontsize(0.0)\n",
    "for tick in ax.get_xticklines():\n",
    "    tick.set_visible(False)\n",
    "\n",
    "plt.savefig('deg.png', dpi=300, bbox_inches='tight')"
   ]
  },
  {
   "cell_type": "code",
   "execution_count": null,
   "metadata": {},
   "outputs": [],
   "source": [
    "import pandas as pd\n",
    "from pyseqrna import pyseqrna_plots as pp\n",
    "from pyseqrna import gene_ontology as go"
   ]
  },
  {
   "cell_type": "code",
   "execution_count": null,
   "metadata": {},
   "outputs": [],
   "source": [
    "rpk.to_excel(outdir+\"/medianRatiocount.xlsx\")"
   ]
  },
  {
   "cell_type": "code",
   "execution_count": null,
   "metadata": {},
   "outputs": [],
   "source": [
    "result = pd.read_excel(\"pySeqRNA_results/Raw_DEGs_all.xlsx\")"
   ]
  },
  {
   "cell_type": "code",
   "execution_count": null,
   "metadata": {},
   "outputs": [],
   "source": [
    "outvolcano = os.path.join(outdir,\"Volcano_Plots\")\n",
    "pu.make_directory(outvolcano)"
   ]
  },
  {
   "cell_type": "code",
   "execution_count": null,
   "metadata": {},
   "outputs": [],
   "source": [
    "for c in comb:\n",
    "        x,y =pp.plotVolcano(result,c,2)\n",
    "        x.savefig(outvolcano+\"/\"+c+\"_volcano.png\", dpi=300)"
   ]
  },
  {
   "cell_type": "code",
   "execution_count": null,
   "metadata": {},
   "outputs": [],
   "source": [
    "heatmap, ax = pp.plotHeatmap(result,comb,num=50, type='degs')\n",
    "\n",
    "heatmap.savefig(os.path.join(outdir,\"Top50_gene.png\"), dpi=300)"
   ]
  },
  {
   "cell_type": "code",
   "execution_count": null,
   "metadata": {},
   "outputs": [],
   "source": [
    "pu.getGenes(os.path.join(outdir,\"filtered_DEGs.xlsx\"),combinations=comb)"
   ]
  },
  {
   "cell_type": "code",
   "execution_count": null,
   "metadata": {},
   "outputs": [],
   "source": [
    "outgo = os.path.join(outdir,\"Gene_Ontology\")\n",
    "pu.make_directory(outgo)\n",
    "gdata = go.query('athaliana')\n"
   ]
  },
  {
   "cell_type": "code",
   "execution_count": null,
   "metadata": {},
   "outputs": [],
   "source": [
    "for c in comb:\n",
    "    file = f\"{outdir}/diff_genes/{c}.txt\"\n",
    "    ontology_results = go.enrichGO(gdata, file)\n",
    "    ontology_results.to_csv(os.path.join(outgo, f\"{c}_gene_ontology.txt\"), sep=\"\\t\", index=False)"
   ]
  },
  {
   "cell_type": "code",
   "execution_count": null,
   "metadata": {},
   "outputs": [],
   "source": [
    "import dill\n",
    "dill.load_session(\"arabidopsis1.pyseqrna\")"
   ]
  },
  {
   "cell_type": "code",
   "execution_count": null,
   "metadata": {},
   "outputs": [],
   "source": [
    "from pyseqrna import pathway as pt\n",
    "from statsmodels.stats.multitest import multipletests\n",
    "import scipy.stats as stats"
   ]
  },
  {
   "cell_type": "code",
   "execution_count": null,
   "metadata": {},
   "outputs": [],
   "source": [
    "outkegg = os.path.join(outdir,\"KEGG_pathway\")\n",
    "\n"
   ]
  },
  {
   "cell_type": "code",
   "execution_count": null,
   "metadata": {},
   "outputs": [],
   "source": [
    "df, background_count = pt.kegg_list('ath')"
   ]
  },
  {
   "cell_type": "code",
   "execution_count": null,
   "metadata": {},
   "outputs": [],
   "source": [
    "for c in comb:\n",
    "    file = f\"{outdir}/diff_genes/{c}.txt\"\n",
    "    kegg_results = pt.enrichKEGG(file, df, background_count)\n",
    "    kegg_results.to_csv(os.path.join(outkegg, f\"{c}_kegg.txt\"), sep=\"\\t\", index=False)"
   ]
  },
  {
   "cell_type": "code",
   "execution_count": 5,
   "metadata": {},
   "outputs": [
    {
     "ename": "TypeError",
     "evalue": "__new__() missing 1 required positional argument: 'path'",
     "output_type": "error",
     "traceback": [
      "\u001b[0;31m---------------------------------------------------------------------------\u001b[0m",
      "\u001b[0;31mTypeError\u001b[0m                                 Traceback (most recent call last)",
      "\u001b[0;32m<ipython-input-5-c6fb4fc069e3>\u001b[0m in \u001b[0;36m<module>\u001b[0;34m\u001b[0m\n\u001b[0;32m----> 1\u001b[0;31m \u001b[0mdill\u001b[0m\u001b[0;34m.\u001b[0m\u001b[0mload_session\u001b[0m\u001b[0;34m(\u001b[0m\u001b[0;34m\"arabidopsis.pyseqrna\"\u001b[0m\u001b[0;34m)\u001b[0m\u001b[0;34m\u001b[0m\u001b[0;34m\u001b[0m\u001b[0m\n\u001b[0m",
      "\u001b[0;32m~/SOFTWARE/miniconda3/envs/pySeqRNA/lib/python3.8/site-packages/dill/_dill.py\u001b[0m in \u001b[0;36mload_session\u001b[0;34m(filename, main, **kwds)\u001b[0m\n\u001b[1;32m    418\u001b[0m         \u001b[0munpickler\u001b[0m\u001b[0;34m.\u001b[0m\u001b[0m_main\u001b[0m \u001b[0;34m=\u001b[0m \u001b[0mmain\u001b[0m\u001b[0;34m\u001b[0m\u001b[0;34m\u001b[0m\u001b[0m\n\u001b[1;32m    419\u001b[0m         \u001b[0munpickler\u001b[0m\u001b[0;34m.\u001b[0m\u001b[0m_session\u001b[0m \u001b[0;34m=\u001b[0m \u001b[0;32mTrue\u001b[0m\u001b[0;34m\u001b[0m\u001b[0;34m\u001b[0m\u001b[0m\n\u001b[0;32m--> 420\u001b[0;31m         \u001b[0mmodule\u001b[0m \u001b[0;34m=\u001b[0m \u001b[0munpickler\u001b[0m\u001b[0;34m.\u001b[0m\u001b[0mload\u001b[0m\u001b[0;34m(\u001b[0m\u001b[0;34m)\u001b[0m\u001b[0;34m\u001b[0m\u001b[0;34m\u001b[0m\u001b[0m\n\u001b[0m\u001b[1;32m    421\u001b[0m         \u001b[0munpickler\u001b[0m\u001b[0;34m.\u001b[0m\u001b[0m_session\u001b[0m \u001b[0;34m=\u001b[0m \u001b[0;32mFalse\u001b[0m\u001b[0;34m\u001b[0m\u001b[0;34m\u001b[0m\u001b[0m\n\u001b[1;32m    422\u001b[0m         \u001b[0mmain\u001b[0m\u001b[0;34m.\u001b[0m\u001b[0m__dict__\u001b[0m\u001b[0;34m.\u001b[0m\u001b[0mupdate\u001b[0m\u001b[0;34m(\u001b[0m\u001b[0mmodule\u001b[0m\u001b[0;34m.\u001b[0m\u001b[0m__dict__\u001b[0m\u001b[0;34m)\u001b[0m\u001b[0;34m\u001b[0m\u001b[0;34m\u001b[0m\u001b[0m\n",
      "\u001b[0;32m~/SOFTWARE/miniconda3/envs/pySeqRNA/lib/python3.8/site-packages/dill/_dill.py\u001b[0m in \u001b[0;36mload\u001b[0;34m(self)\u001b[0m\n\u001b[1;32m    523\u001b[0m \u001b[0;34m\u001b[0m\u001b[0m\n\u001b[1;32m    524\u001b[0m     \u001b[0;32mdef\u001b[0m \u001b[0mload\u001b[0m\u001b[0;34m(\u001b[0m\u001b[0mself\u001b[0m\u001b[0;34m)\u001b[0m\u001b[0;34m:\u001b[0m \u001b[0;31m#NOTE: if settings change, need to update attributes\u001b[0m\u001b[0;34m\u001b[0m\u001b[0;34m\u001b[0m\u001b[0m\n\u001b[0;32m--> 525\u001b[0;31m         \u001b[0mobj\u001b[0m \u001b[0;34m=\u001b[0m \u001b[0mStockUnpickler\u001b[0m\u001b[0;34m.\u001b[0m\u001b[0mload\u001b[0m\u001b[0;34m(\u001b[0m\u001b[0mself\u001b[0m\u001b[0;34m)\u001b[0m\u001b[0;34m\u001b[0m\u001b[0;34m\u001b[0m\u001b[0m\n\u001b[0m\u001b[1;32m    526\u001b[0m         \u001b[0;32mif\u001b[0m \u001b[0mtype\u001b[0m\u001b[0;34m(\u001b[0m\u001b[0mobj\u001b[0m\u001b[0;34m)\u001b[0m\u001b[0;34m.\u001b[0m\u001b[0m__module__\u001b[0m \u001b[0;34m==\u001b[0m \u001b[0mgetattr\u001b[0m\u001b[0;34m(\u001b[0m\u001b[0m_main_module\u001b[0m\u001b[0;34m,\u001b[0m \u001b[0;34m'__name__'\u001b[0m\u001b[0;34m,\u001b[0m \u001b[0;34m'__main__'\u001b[0m\u001b[0;34m)\u001b[0m\u001b[0;34m:\u001b[0m\u001b[0;34m\u001b[0m\u001b[0;34m\u001b[0m\u001b[0m\n\u001b[1;32m    527\u001b[0m             \u001b[0;32mif\u001b[0m \u001b[0;32mnot\u001b[0m \u001b[0mself\u001b[0m\u001b[0;34m.\u001b[0m\u001b[0m_ignore\u001b[0m\u001b[0;34m:\u001b[0m\u001b[0;34m\u001b[0m\u001b[0;34m\u001b[0m\u001b[0m\n",
      "\u001b[0;31mTypeError\u001b[0m: __new__() missing 1 required positional argument: 'path'"
     ]
    }
   ],
   "source": [
    "\n",
    "dill.load_session(\"arabidopsis.pyseqrna\")"
   ]
  }
 ],
 "metadata": {
  "interpreter": {
   "hash": "68add8a62ec0494f503bfd87f490205670fb58cdd6e788ec5ca57569f6a52452"
  },
  "kernelspec": {
   "display_name": "Python 3.8.8 64-bit (conda)",
   "name": "python3"
  },
  "language_info": {
   "codemirror_mode": {
    "name": "ipython",
    "version": 3
   },
   "file_extension": ".py",
   "mimetype": "text/x-python",
   "name": "python",
   "nbconvert_exporter": "python",
   "pygments_lexer": "ipython3",
   "version": "3.8.8"
  },
  "orig_nbformat": 4
 },
 "nbformat": 4,
 "nbformat_minor": 2
}
