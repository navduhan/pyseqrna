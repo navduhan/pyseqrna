{
 "cells": [
  {
   "cell_type": "code",
   "execution_count": 1,
   "metadata": {},
   "outputs": [],
   "source": [
    "import multiprocessing\n",
    "from pyseqrna import pyseqrna_stats as ps\n",
    "from pyseqrna import pyseqrna_utils as pu\n",
    "from pyseqrna import quality_check as qc\n",
    "from pyseqrna import quality_trimming as qt\n",
    "from pyseqrna import  aligners as al\n",
    "from pyseqrna import quantification as quants\n",
    "from pyseqrna import differential_expression as de\n",
    "from pyseqrna import pyseqrna_plots as pp\n",
    "from pyseqrna import multimapped_groups as mmg\n",
    "import pandas as pd\n",
    "import dill"
   ]
  },
  {
   "cell_type": "code",
   "execution_count": 2,
   "metadata": {},
   "outputs": [
    {
     "name": "stderr",
     "output_type": "stream",
     "text": [
      "[17:53:59]  pyseqrna_utils :: INFO : Reading input samples File \n",
      "[17:53:59]  pyseqrna_utils :: INFO : Input file /home/naveen/Downloads/pyseqrna_test/input_sample.txt read succesfully\n",
      "[17:53:59]  pyseqrna_utils :: INFO : Combination created succesfully from /home/naveen/Downloads/pyseqrna_test/input_sample.txt\n",
      "[17:53:59]  pyseqrna_utils :: INFO : targets dataframe for differenatial created succesfully from /home/naveen/Downloads/pyseqrna_test/input_sample.txt\n"
     ]
    }
   ],
   "source": [
    "data = pu.read_input_file(\"/home/naveen/Downloads/pyseqrna_test/input_sample.txt\", \"/home/naveen/Downloads/pyseqrna_test/\" , paired=True)\n",
    "samples= data['samples']"
   ]
  },
  {
   "cell_type": "code",
   "execution_count": 4,
   "metadata": {},
   "outputs": [
    {
     "name": "stdout",
     "output_type": "stream",
     "text": [
      "{'WT3': 15901761, 'F2': 17952531, 'PF1': 16767110, 'PF3': 15928550, 'F3': 16633124, 'PF2': 16761019, 'WT2': 18418491, 'F1': 18873923, 'WT1': 19820972}\n"
     ]
    }
   ],
   "source": [
    "processes = []\n",
    "manager = multiprocessing.Manager()\n",
    "rdict = manager.dict()\n",
    "for sp in samples:\n",
    "    p=multiprocessing.Process(target=ps.getNreads, args=(samples[sp][2],rdict, sp))\n",
    "    \n",
    "    processes.append(p)\n",
    "    p.start()\n",
    "        \n",
    "for process in processes:\n",
    "    process.join()\n",
    "print(rdict)\n"
   ]
  }
 ],
 "metadata": {
  "interpreter": {
   "hash": "68add8a62ec0494f503bfd87f490205670fb58cdd6e788ec5ca57569f6a52452"
  },
  "kernelspec": {
   "display_name": "Python 3.8.8 64-bit (conda)",
   "language": "python",
   "name": "python3"
  },
  "language_info": {
   "codemirror_mode": {
    "name": "ipython",
    "version": 3
   },
   "file_extension": ".py",
   "mimetype": "text/x-python",
   "name": "python",
   "nbconvert_exporter": "python",
   "pygments_lexer": "ipython3",
   "version": "3.8.8"
  },
  "orig_nbformat": 4
 },
 "nbformat": 4,
 "nbformat_minor": 2
}
