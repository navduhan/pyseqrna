{
 "cells": [
  {
   "cell_type": "markdown",
   "metadata": {},
   "source": [
    "# Arabidopsis "
   ]
  },
  {
   "cell_type": "code",
   "execution_count": 7,
   "metadata": {},
   "outputs": [],
   "source": [
    "import matplotlib.pyplot as plt\n",
    "import pandas as pd\n",
    "import plotly.graph_objects as go\n",
    "import seaborn as sns\n",
    "from matplotlib.colors import ListedColormap\n",
    "import matplotlib.patches as mpatches\n",
    "import numpy as np\n",
    "import dill"
   ]
  },
  {
   "cell_type": "code",
   "execution_count": 9,
   "metadata": {},
   "outputs": [],
   "source": []
  },
  {
   "cell_type": "code",
   "execution_count": null,
   "metadata": {},
   "outputs": [],
   "source": [
    "summary = pd.read_csv(\"pySeqRNA_results/KEGG_pathway/GL0.5-HL0.5_kegg.txt\", sep=\"\\t\")"
   ]
  },
  {
   "cell_type": "code",
   "execution_count": null,
   "metadata": {},
   "outputs": [],
   "source": [
    "\n",
    "pvals= summary['Pvalues']\n",
    "\n",
    "\n",
    "\n",
    "summary['log10-Pvalue'] =-np.log10(pvals)\n",
    "\n",
    "df = summary.nlargest(20, ['log10-Pvalue'])\n",
    "\n",
    "df.sort_values(by=['log10-Pvalue'], inplace=True, ascending=True)\n"
   ]
  },
  {
   "cell_type": "code",
   "execution_count": null,
   "metadata": {},
   "outputs": [],
   "source": [
    "\n",
    "cmap = ListedColormap(sns.color_palette(\"hot\"))\n",
    "\n",
    "desc= list(df['Description'])\n",
    "norm = plt.Normalize(df['log10-Pvalue'].min(), df['log10-Pvalue'].max())\n",
    "norm\n",
    "sm = plt.cm.ScalarMappable(cmap=cmap, norm=norm)\n",
    "size = list(df['log10-Pvalue']*10)\n",
    "\n",
    "ax= sns.scatterplot(x='Count', y='Description',hue='Count',palette=cmap,edgecolor='black',data=df.iloc[::-1],linewidth=1,alpha=0.6, s=10, size='log10-Pvalue', sizes=(50, 150))\n",
    "\n",
    "\n",
    "ax.spines['top'].set_visible(False)\n",
    "ax.spines['right'].set_visible(False)\n",
    "ax.spines['left'].set_bounds((0, 20))\n",
    "# add some space between the axis and the plot\n",
    "ax.spines['left'].set_position(('outward', 8))\n",
    "ax.spines['bottom'].set_position(('outward', 5))\n",
    "plt.setp(ax.get_xticklabels(), Fontsize=14)\n",
    "plt.setp(ax.get_yticklabels(), Fontsize=14)\n",
    "plt.xlabel(\"Counts\", fontsize=16, fontweight='bold')\n",
    "plt.ylabel(\"KEGG Pathway Description\", fontsize=16, fontweight='bold')\n",
    "plt.legend( bbox_to_anchor=(1.3, 0.5),ncol = 1, loc='center', fontsize=12)\n",
    "fig = plt.gcf()\n",
    "fig.set_size_inches(18, 10)\n",
    "fig.tight_layout()\n",
    "fig.savefig('test2png.png', dpi=300)"
   ]
  },
  {
   "cell_type": "code",
   "execution_count": 1,
   "metadata": {},
   "outputs": [],
   "source": [
    "import os\n",
    "import math\n",
    "import pylab as plt\n",
    "import numpy as np\n",
    "import pandas as pd\n",
    "import matplotlib.patches as patches\n",
    "import gzip\n",
    "from Bio import SeqIO\n",
    "\n"
   ]
  },
  {
   "cell_type": "code",
   "execution_count": 2,
   "metadata": {},
   "outputs": [],
   "source": [
    "def plot_fastq_qualities(filename, ax=None, limit=10000):\n",
    "\n",
    "    fastq_parser = SeqIO.parse(gzip.open(filename, \"rt\"), \"fastq\")\n",
    "    res=[]\n",
    "    c=0\n",
    "    for record in fastq_parser:\n",
    "        score=record.letter_annotations[\"phred_quality\"]\n",
    "        res.append(score)\n",
    "        c+=1\n",
    "        if c>limit:\n",
    "            break\n",
    "    df = pd.DataFrame(res)\n",
    "    l = len(df.T)+1\n",
    "\n",
    "    if ax==None:\n",
    "        f,ax=plt.subplots(figsize=(12,5))\n",
    "    rect = patches.Rectangle((0,0),l,20,linewidth=0,facecolor='r',alpha=.4)\n",
    "    ax.add_patch(rect)\n",
    "    rect = patches.Rectangle((0,20),l,8,linewidth=0,facecolor='yellow',alpha=.4)\n",
    "    ax.add_patch(rect)\n",
    "    rect = patches.Rectangle((0,28),l,12,linewidth=0,facecolor='g',alpha=.4)\n",
    "    ax.add_patch(rect)\n",
    "    df.mean().plot(ax=ax,c='black')\n",
    "    boxprops = dict(linestyle='-', linewidth=1, color='black')\n",
    "    df.plot(kind='box', ax=ax, grid=False, showfliers=False,\n",
    "            color=dict(boxes='black',whiskers='black')  )\n",
    "    ax.set_xticks(np.arange(0, l, 5))\n",
    "    ax.set_xticklabels(np.arange(0, l, 5))\n",
    "    ax.set_xlabel('position(bp)')\n",
    "    ax.set_xlim((0,l))\n",
    "    ax.set_ylim((0,40))\n",
    "    ax.set_title('per base sequence quality')    \n",
    "    return\n"
   ]
  },
  {
   "cell_type": "code",
   "execution_count": 4,
   "metadata": {},
   "outputs": [
    {
     "data": {
      "image/png": "[encoded data removed]",
      "text/plain": [
       "<Figure size 864x360 with 1 Axes>"
      ]
     },
     "metadata": {
      "needs_background": "light"
     },
     "output_type": "display_data"
    }
   ],
   "source": [
    "plot_fastq_qualities(\"/home/naveen/Downloads/arabidopsis/SRR6767632.fastq.gz\")"
   ]
  },
  {
   "cell_type": "code",
   "execution_count": 5,
   "metadata": {},
   "outputs": [],
   "source": [
    "def fastq_to_dataframe(filename, size=1000):\n",
    "    \"\"\"Convert fastq to dataframe.\n",
    "        size: limit to the first reads of total size\n",
    "        Returns: dataframe with reads\n",
    "    \"\"\"\n",
    "\n",
    "    ext = os.path.splitext(filename)[1]\n",
    "    if ext=='.fastq' or ext=='.gz':\n",
    "        fastq_parser = SeqIO.parse(gzip.open(filename, \"rt\"), \"fastq\")\n",
    "    else:\n",
    "        fastq_parser = SeqIO.parse(open(filename, \"r\"), \"fastq\")\n",
    "    i=0\n",
    "    res=[]\n",
    "    for fastq_rec in fastq_parser:\n",
    "        #print (fastq_rec.seq)\n",
    "        i+=1\n",
    "        if i>size:\n",
    "            break\n",
    "        res.append([fastq_rec.id, str(fastq_rec.seq)])\n",
    "    df = pd.DataFrame(res, columns=['id','seq'])\n",
    "    df['length'] = df.seq.str.len()\n",
    "    return df\n",
    "\n",
    "def normpdf(x, mean, sd):\n",
    "    \"\"\"sample a normal distribution at given point\"\"\"\n",
    "\n",
    "    var = float(sd)**2\n",
    "    denom = (2*math.pi*var)**.5\n",
    "    num = math.exp(-(float(x)-float(mean))**2/(2*var))\n",
    "    return num/denom\n",
    "\n",
    "def plot_fastq_gc_content(filename, ax=None, limit=50000):\n",
    "\n",
    "    from Bio.SeqUtils import GC\n",
    "    if ax==None:\n",
    "        f,ax=plt.subplots(figsize=(12,5))\n",
    "    df = fastq_to_dataframe(filename, size=limit)\n",
    "    gc = df.seq.apply(lambda x: GC(x))  \n",
    "    gc.hist(ax=ax,bins=150,color='black',grid=False,histtype='step',lw=2)\n",
    "    ax.set_xlim((0,100))    \n",
    "    x=np.arange(1,100,.1)\n",
    "    f = [normpdf(i, gc.mean(), gc.std()) for i in x]    \n",
    "    ax2=ax.twinx()   \n",
    "    ax2.plot(x,f)\n",
    "    ax2.set_ylim(0,max(f))\n",
    "    ax.set_title('GC content',size=15)\n",
    "    return\n"
   ]
  },
  {
   "cell_type": "code",
   "execution_count": 6,
   "metadata": {},
   "outputs": [
    {
     "data": {
      "image/png": "[encoded data removed]",
      "text/plain": [
       "<Figure size 864x360 with 2 Axes>"
      ]
     },
     "metadata": {
      "needs_background": "light"
     },
     "output_type": "display_data"
    }
   ],
   "source": [
    "plot_fastq_gc_content(\"/home/naveen/Downloads/arabidopsis/SRR6767632.fastq.gz\")"
   ]
  }
 ],
 "metadata": {
  "interpreter": {
   "hash": "68add8a62ec0494f503bfd87f490205670fb58cdd6e788ec5ca57569f6a52452"
  },
  "kernelspec": {
   "display_name": "Python 3.8.8 64-bit (conda)",
   "language": "python",
   "name": "python3"
  },
  "language_info": {
   "codemirror_mode": {
    "name": "ipython",
    "version": 3
   },
   "file_extension": ".py",
   "mimetype": "text/x-python",
   "name": "python",
   "nbconvert_exporter": "python",
   "pygments_lexer": "ipython3",
   "version": "3.8.8"
  },
  "orig_nbformat": 4
 },
 "nbformat": 4,
 "nbformat_minor": 2
}
